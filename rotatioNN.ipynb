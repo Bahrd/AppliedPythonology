{
 "cells": [
  {
   "cell_type": "markdown",
   "metadata": {},
   "source": [
    "2D rotation - a canonical version with an implicit NN interpolation\n",
    "Be careful however, because (\"*Timeo Danaos et dona ferentes!*\"?). that is, Python thinks(?!) that '$\\vartheta$ is $\\theta$ == True' (and so are '$\\varrho$' and '$\\rho$', see ll. 39-40)!"
   ]
  },
  {
   "cell_type": "code",
   "execution_count": null,
   "metadata": {},
   "outputs": [],
   "source": [
    "from interpolation import eddie\n",
    "from auxiliary import displayImages as DI\n",
    "from random import randrange as RR\n",
    "from numpy import array, clip, empty\n",
    "from math import sin, cos, pi\n",
    "from sys import argv\n",
    "\n",
    "## Setting...\n",
    "#  A rotation angle α...\n",
    "ϱ = RR(-180, 180) #°\n",
    "α, Cu = ϱ * pi/180.0, 'copper' # Main and auxiliary variables\n",
    "\n",
    "#  ... and a source image...  (cf. './rotation2D.py')\n",
    "img = eddie; M = len(img); N = M << 0b0\n",
    "out = empty((N, N))\n",
    "# ... and rotation of ϑ = [x, y].T, w.r.t. OXY and through that angle: https://youtu.be/eV7UI_WX54c?t=191\n",
    "OXY, Rα = array([M/2, M/2]), array([[cos(α), -sin(α)],  #              https://youtu.be/eV7UI_WX54c?t=361\n",
    "                                    [sin(α),  cos(α)]]) # '+' clockwise\n",
    "\n",
    "for n in range(N):\n",
    "    for m in range(N):\n",
    "        ϑ = array([n/N, m/N]) * M - OXY\n",
    "        ϑ = Rα @ ϑ + OXY\n",
    "        x, y = clip(ϑ, 0, M - 1).astype(int) # where the NNs dwell\n",
    "        out[n, m] = img[x, y]                # cf. rotation2D.py's '... = f(x, y, img, Π)'\n",
    "DI((img, out), ('Original', f'NN-rotated by {ρ}°'), cmp = Cu)"
   ]
  }
 ],
 "metadata": {
  "kernelspec": {
   "display_name": "Python 3",
   "language": "python",
   "name": "python3"
  },
  "language_info": {
   "codemirror_mode": {
    "name": "ipython",
    "version": 3
   },
   "file_extension": ".py",
   "mimetype": "text/x-python",
   "name": "python",
   "nbconvert_exporter": "python",
   "pygments_lexer": "ipython3",
   "version": "3.12.0"
  }
 },
 "nbformat": 4,
 "nbformat_minor": 2
}
