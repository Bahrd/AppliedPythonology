{
 "cells": [
  {
   "cell_type": "markdown",
   "metadata": {},
   "source": [
    "2D rotation - a canonical version with an implicit NN interpolation\n",
    "Be careful however, because (\"Timeo Danaos et dona ferentes!\"?) Python \n",
    "thinks that 'ϑ is θ == True' (and so are 'ϱ' and 'ρ', see ll. 39-40)!"
   ]
  },
  {
   "cell_type": "code",
   "execution_count": 3,
   "metadata": {},
   "outputs": [
    {
     "ename": "SyntaxError",
     "evalue": "invalid syntax (<string>, line 1)",
     "output_type": "error",
     "traceback": [
      "Traceback \u001b[1;36m(most recent call last)\u001b[0m:\n",
      "\u001b[0m  File \u001b[0;32m~\\AppData\\Roaming\\Python\\Python312\\site-packages\\IPython\\core\\interactiveshell.py:3526\u001b[0m in \u001b[0;35mrun_code\u001b[0m\n    exec(code_obj, self.user_global_ns, self.user_ns)\u001b[0m\n",
      "\u001b[1;36m  Cell \u001b[1;32mIn[3], line 10\u001b[1;36m\n\u001b[1;33m    ϱ = eval(argv[0b1]) if len(argv) > 0b1 else RR(-180, 180) #°\u001b[1;36m\n",
      "\u001b[1;36m  File \u001b[1;32m<string>:1\u001b[1;36m\u001b[0m\n\u001b[1;33m    --ip=127.0.0.1\u001b[0m\n\u001b[1;37m        ^\u001b[0m\n\u001b[1;31mSyntaxError\u001b[0m\u001b[1;31m:\u001b[0m invalid syntax\n"
     ]
    }
   ],
   "source": [
    "from interpolation import eddie\n",
    "from auxiliary import displayImages as DI\n",
    "from random import randrange as RR\n",
    "from numpy import array, clip, empty\n",
    "from math import sin, cos, pi\n",
    "from sys import argv\n",
    "\n",
    "## Setting...\n",
    "#  A rotation angle α...\n",
    "ϱ = eval(argv[0b1]) if len(argv) > 0b1 else RR(-180, 180) #°\n",
    "α, Cu = ϱ * pi/180.0, 'copper' # Main and auxiliary variables\n",
    "\n",
    "#  ... and a source image...  (cf. './rotation2D.py')\n",
    "img = eddie; M = len(img); N = int(argv[0b10]) if len(argv) > 0b10 else M << 0b1\n",
    "out = empty((N, N))\n",
    "# ... and rotation of ϑ = [x, y].T, w.r.t. OXY and through that angle: https://youtu.be/eV7UI_WX54c?t=191\n",
    "OXY, Rα = array([M/2, M/2]), array([[cos(α), -sin(α)],  #              https://youtu.be/eV7UI_WX54c?t=361\n",
    "                                    [sin(α),  cos(α)]]) # '+' clockwise\n",
    "\n",
    "for n in range(N):\n",
    "    for m in range(N):\n",
    "        ϑ = array([n/N, m/N]) * M - OXY\n",
    "        ϑ = Rα @ ϑ + OXY\n",
    "        x, y = clip(ϑ, 0, M - 1).astype(int) # where the NNs dwell\n",
    "        out[n, m] = img[x, y]                # cf. rotation2D.py's '... = f(x, y, img, Π)'\n",
    "DI((img, out), ('Original', f'NN-rotated by {ρ}°'), cmp = Cu)"
   ]
  },
  {
   "cell_type": "markdown",
   "metadata": {},
   "source": []
  }
 ],
 "metadata": {
  "kernelspec": {
   "display_name": "Python 3",
   "language": "python",
   "name": "python3"
  },
  "language_info": {
   "codemirror_mode": {
    "name": "ipython",
    "version": 3
   },
   "file_extension": ".py",
   "mimetype": "text/x-python",
   "name": "python",
   "nbconvert_exporter": "python",
   "pygments_lexer": "ipython3",
   "version": "3.12.0"
  }
 },
 "nbformat": 4,
 "nbformat_minor": 2
}
