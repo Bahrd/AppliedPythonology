{
 "cells": [
  {
   "cell_type": "markdown",
   "metadata": {},
   "source": [
    "# Zero-knowledge-**proof** \n",
    "### Not quite a <font color=\"red\">mathematical</font> one, but still cool...\n",
    "\n",
    "The idea of this particular **ZKP** scheme (*cf. e.g.*:\n",
    "+ [ZKP@Wiki](https://en.wikipedia.org/wiki/Zero-knowledge_proof#Discrete_log_of_a_given_value)\n",
    "+ [Sudoku???](https://www.youtube.com/watch?v=FfeXX6OLq8w)\n",
    "+ [Computerphile's take](https://www.youtube.com/watch?v=HUs1bH85X9I))\n",
    "\n",
    "is based on the facts that:\n",
    "+ $g$ is a primitive root $\\operatorname{mod}p$ and \n",
    "+ $p$ is a prime \n",
    "\n",
    "Hence $g\\perp p$ and, from the [Fermat's/Euler](https://en.wikipedia.org/wiki/Euler%27s_theorem)'s theorem, for any ${\\color{red}a}$ we \"immediately\" have that:          \n",
    "$$\n",
    "\\begin{align*}\n",
    "g^{\\color{red}a}\\operatorname{mod}p &  \n",
    " = g^{{\\color{red}a}\\operatorname{mod}\\left(  p-1\\right)\n",
    "   + k\\left(  p-1\\right)  }\\operatorname{mod}p\n",
    " = g^{{\\color{red}a}\\operatorname{mod}\\left(  p-1\\right)  }\\operatorname{mod}p\n",
    "   \\cdot\\overset{\\equiv 1^k}{\\overbrace{g^{k\\left(  p-1\\right)  }\\operatorname{mod}p}}\\\\\n",
    " & = g^{{\\color{red}a}\\operatorname{mod}\\left(  p-1\\right)  }\\operatorname{mod}p\n",
    "\\end{align*}\n",
    "$$"
   ]
  },
  {
   "cell_type": "code",
   "execution_count": 121,
   "metadata": {},
   "outputs": [],
   "source": [
    "from numpy import unique as unq\n",
    "from numpy.random import randint, choice\n",
    "\n",
    "## A brute force (thus good enough for small $p$'s) test for $g$:\n",
    "prm = lambda p, g: True if(p - len(unq([g ** n % p for n in range(p)])) == 1) else False\n",
    "# However, https://math.stackexchange.com/a/4484127 - and you can always find out if you are a lucky punk...\n",
    "\n",
    "#  Both p and g are public... These numbers aren't arbitrary, so check if prm(p, g) == True\n",
    "p, g = 0x61, 0x56\n",
    "\n",
    "# Alice's secret password x and its public 'signature' y\n",
    "x = 101; y = g ** x % p"
   ]
  },
  {
   "cell_type": "markdown",
   "metadata": {},
   "source": [
    "# Interactive proof [verification]\n",
    "**Victor** should verify <font color = \"red\">**Alice**</font>'s knowledge of the secret (more than) few times"
   ]
  },
  {
   "cell_type": "code",
   "execution_count": 122,
   "metadata": {},
   "outputs": [
    {
     "name": "stdout",
     "output_type": "stream",
     "text": [
      "43 ≡ 43. Trick's OK!\n"
     ]
    }
   ],
   "source": [
    "#  Alice picks a random r\n",
    "r = randint(p - 1)\n",
    "# ... and publishes equally random(-ly looking) C, let's call it a round certificate\n",
    "C = g ** r % p\n",
    "#  Each time Victor [whose uncertainty makes him go around the bend] 'vehemently' questions Alice's credibility with a random choice of the question...\n",
    "flip = choice(['Trick', 'Threat'])\n",
    "if(flip == 'Trick'):\n",
    "    #  Alice's response (with the little help of the Little Fermat's Theorem)\n",
    "    #  and with a fair help of the Euler's one (https://en.wikipedia.org/wiki/Euler%27s_theorem) reveals nothing about x as long as r is uniformly random\n",
    "    #  We can say that c is yet another (round) certificate\n",
    "    c = (x + r) % (p - 1)\n",
    "    #  Victor's job here is to verify that the certificate was created\n",
    "    #  with the use of the actual secret x\n",
    "    v, V = (C * y) % p, g ** c % p\n",
    "else:\n",
    "    #  Victor is merely verifying that r was indeed used to create C\n",
    "    v, V = C, g ** r % p\n",
    "\n",
    "print(f\"{v} ≡ {V}. {flip}'s OK!\" if (v == V) else f\"{v} != {V}. {flip} ain't OK, gotcha!\")"
   ]
  },
  {
   "cell_type": "markdown",
   "metadata": {},
   "source": [
    "# Sting (a.k.a. Vabank, Sztos)\n",
    "Now <font color = \"red\">**Alice**</font> knows in advance that (kindly, nice and silly) **Victor** will always (love her and) ask for $c$ only...\n",
    "So she (being mischievously smart) makes up some totally random $y$ and (for each round new) $r$, publishes a fake signature $y$, keeps its inverse $y^{-1}\\operatorname{mod}p$, and publishes the fake round signature $C$ and - knowing what she will be asked for - blatantly provides Victors with equally fake $c$...\n",
    "\n",
    "♪♫ *I suppose you've heard... about [Alice](https://www.youtube.com/watch?v=Z6qnRS36EgE)*? ♫♪ "
   ]
  },
  {
   "cell_type": "code",
   "execution_count": 123,
   "metadata": {},
   "outputs": [
    {
     "name": "stdout",
     "output_type": "stream",
     "text": [
      "11 ≡ 11. And poor Victor believes Alice. Over and over...\n"
     ]
    }
   ],
   "source": [
    "# Alice starts with a fake signature\n",
    "# (but how to tell it's so? Love's blind - they say - ain't it?)\n",
    "y = randint(p - 1)\n",
    "# and the corresponding fakes\n",
    "r, yy = randint(p - 1), pow(y, -1, p)\n",
    "\n",
    "c, C = g ** r * yy % p, g ** r % p\n",
    "v, V = c,  C * yy % p\n",
    "print(f\"{v} ≡ {V}. And poor Victor believes Alice. Over and over...\" if (v == V) else f\"{v} != {V}. Whoa!!! Alice's caught!?\")"
   ]
  },
  {
   "cell_type": "markdown",
   "metadata": {},
   "source": [
    "Oh **Victor**, poor **Victor**...! $-$ where'd you when President Ronald Reagan said: [*\"Trust, but verify\"*](https://en.wikipedia.org/wiki/Trust,_but_verify)?!\n",
    "\n",
    "♪♫\\\n",
    "So what's the one conclusion\\\n",
    "I can bring this number to...\\\n",
    "[When you're good to Math, Victor,](https://youtu.be/3t6_odu4lNc)\\\n",
    "Math is good to you, oh, yeah!\\\n",
    "♫♪"
   ]
  }
 ],
 "metadata": {
  "kernelspec": {
   "display_name": "Python 3",
   "language": "python",
   "name": "python3"
  },
  "language_info": {
   "codemirror_mode": {
    "name": "ipython",
    "version": 3
   },
   "file_extension": ".py",
   "mimetype": "text/x-python",
   "name": "python",
   "nbconvert_exporter": "python",
   "pygments_lexer": "ipython3",
   "version": "3.10.10"
  }
 },
 "nbformat": 4,
 "nbformat_minor": 2
}
