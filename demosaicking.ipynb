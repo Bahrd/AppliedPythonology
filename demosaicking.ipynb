{
 "cells": [
  {
   "cell_type": "markdown",
   "metadata": {},
   "source": [
    "# Demosaickin<font color='green'>g</font> with the help of li<font color='blue'>b</font><font color='red'>r</font>ary functions\n",
    "For future reference (and for all <font color='red'>R</font><font color='green'>G</font><font color='blue'>B</font> channels) - but with **almost** no educational charm **what.so.ever**...\n",
    "\n",
    "**Almost:** Illustration of application of superposition:\n",
    "$$\n",
    "\\begin{bmatrix}\n",
    "\\color{red}{R} & \\color{green}{G_I}\\\\\n",
    "\\color{green}{G_{II}} & \\color{blue}{B}\n",
    "\\end{bmatrix}\n",
    "=\n",
    "\\begin{bmatrix}\n",
    "\\color{red}{R} & 0\\\\\n",
    "0 & 0\n",
    "\\end{bmatrix}\n",
    "+\n",
    "\\underset{\\color{green}{G}}{\\underbrace{\\left[\n",
    "\\begin{bmatrix}\n",
    "0 & \\color{green}{G_I}\\\\\n",
    "0 & 0\n",
    "\\end{bmatrix}\n",
    "+\n",
    "\\begin{bmatrix}\n",
    "0 & 0\\\\\n",
    "\\color{green}{G_{II}} & 0\n",
    "\\end{bmatrix}\n",
    "\\right]}}\n",
    "+\n",
    "\\begin{bmatrix}\n",
    "0 & 0\\\\\n",
    "0 & \\color{blue}{B}\n",
    "\\end{bmatrix}\n",
    "$$"
   ]
  },
  {
   "cell_type": "code",
   "execution_count": null,
   "metadata": {},
   "outputs": [],
   "source": [
    "import cv2; import numpy as np; import auxiliary as aux\n",
    "\n",
    "scheme = cv2.INTER_LINEAR_EXACT\n",
    "img = cv2.resize(cv2.cvtColor(cv2.imread('./images/GrassHopper.png'), cv2.COLOR_BGR2RGB),\n",
    "                 (128, 128),\n",
    "                 interpolation = scheme)\n",
    "\n",
    "## Moisaicking (Bayer CFA)\n",
    "N, M, _ = img.shape\n",
    "raws  = img[0:N:2, 0:M:2, 0], img[1:N:2, 1:M:2, 2], img[1:N:2, 0:M:2, 1], img[0:N:2, 1:M:2, 1]\n",
    "\n",
    "## De-mosaicking (de-Bayering by interpolation)\n",
    "# Note how we use superposition to restore the green channel\n",
    "R, B, GI, GII = [cv2.resize(channel_raw, (M, N), interpolation = scheme) for channel_raw in raws]\n",
    "G = GI//2 + GII//2\n",
    "\n",
    "images = ('Original', 'R', 'B', '1st G', '2nd G', 'G')\n",
    "aux.displayImages((img, R, B, GI, GII, G), images, grid = False)\n",
    "\n",
    "rgb = np.dstack((R, G, B)); cc = ('red', 'green', 'blue')\n",
    "aux.displayChannels((img, rgb), cc)\n",
    "\n",
    "images = ('Original', 'Demo\\'ed', 'Little diff\\'s') # So to speak... https://youtu.be/ab7eVVG3I8s?t=43\n",
    "aux.displayImages((img, rgb, rgb - img), images, grid = False)"
   ]
  },
  {
   "cell_type": "markdown",
   "metadata": {},
   "source": [
    "## A **s[ligh|ignifican]tly** more re-educational version...\n",
    "Here we re-use (albeit for the **<font color='red'>R</font> channel** only...) our own (and a bit majestic) interpolating routine!"
   ]
  },
  {
   "cell_type": "code",
   "execution_count": null,
   "metadata": {},
   "outputs": [],
   "source": [
    "from interpolation import Π, Λ, ϕ, ξ, interpolate as ΣΣ\n",
    "from auxiliary import displayImages as DI\n",
    "from matplotlib.colors import LinearSegmentedColormap as lscm\n",
    "\n",
    "# Linear interpolation\n",
    "ψ = ϕ; name = ψ.__name__\n",
    "reds = lscm.from_list('_', ['black', 'red'])\n",
    "\n",
    "red = np.zeros((N, N))\n",
    "# Rows first...\n",
    "for m in range(M >> 1):\n",
    "   red[m, ...] = np.matrix(ΣΣ(raws[0][m, ...], N, φ = ψ)).flat    # matrix?\n",
    "DI((img, red), ('Original', f'{name}-scaled rows'), cmp = reds, grid = False)\n",
    "# ...then columns\n",
    "for n in range(N):\n",
    "   red[:, n] = np.array(ΣΣ(red[:M >> 1, n], N, φ = ψ)).flat       # array? whatchamacallit!\n",
    "DI((img, red), ('Original', f'{name}-scaled rows & columns'), cmp = reds, grid = False)"
   ]
  }
 ],
 "metadata": {
  "kernelspec": {
   "display_name": "Python 3",
   "language": "python",
   "name": "python3"
  },
  "language_info": {
   "codemirror_mode": {
    "name": "ipython",
    "version": 3
   },
   "file_extension": ".py",
   "mimetype": "text/x-python",
   "name": "python",
   "nbconvert_exporter": "python",
   "pygments_lexer": "ipython3",
   "version": "3.12.0"
  }
 },
 "nbformat": 4,
 "nbformat_minor": 2
}
