{
 "cells": [
  {
   "cell_type": "markdown",
   "metadata": {},
   "source": [
    "# An interpolation scheme in demosaicking\n",
    "For reference (and for all <font color='red'>R</font><font color='green'>G</font><font color='blue'>B</font>channels) - but with no educational charm **what.so.ever**..."
   ]
  },
  {
   "cell_type": "code",
   "execution_count": null,
   "metadata": {},
   "outputs": [],
   "source": [
    "import cv2; import numpy as np; import auxiliary as aux\n",
    "img = cv2.cvtColor(cv2.imread('./images/GrassHopper.png'), cv2.COLOR_BGR2RGB)\n",
    "img = cv2.resize(img, (256, 256), interpolation = cv2.INTER_LINEAR_EXACT)\n",
    "\n",
    "## Demosaicking by interpolation\n",
    "N, M, _ = img.shape\n",
    "R_raw, B_raw, G1_raw, G2_raw  = img[0:N:2, 0:M:2, 0], img[1:N:2, 1:M:2, 2], img[1:N:2, 0:M:2, 1], img[0:N:2, 1:M:2, 1]\n",
    "\n",
    "R, B, G1, G2 = [cv2.resize(channel_raw, (M, N), interpolation = cv2.INTER_LINEAR_EXACT) for channel_raw in (R_raw, B_raw, G1_raw, G2_raw)]\n",
    "channels = ('raw', 'R', 'B', 'G1', 'G2', 'G')\n",
    "aux.displayImages((img, R, B, G1, G2, G1//2+G2//2), channels, grid = False)\n",
    "\n",
    "rgb = np.dstack((R, G1//2 + G2//2, B))\n",
    "channels = ('red', 'green', 'blue')\n",
    "# The Bayer CFA mosaic (aka 'RAW') and the de-mosaicked image\n",
    "aux.displayChannels((img, rgb), channels)\n",
    "\n",
    "images = ('raw', 'demo\\'ed')\n",
    "aux.displayImages((img, rgb), images, grid = False)"
   ]
  },
  {
   "cell_type": "markdown",
   "metadata": {},
   "source": [
    "## A **s[ligh|ignifican]tly** more re-educational version...\n",
    "Here we re-use (albeit for the **<font color='red'>R</font> channel** only...) our own (and a bit majestic) interpolating routine!"
   ]
  },
  {
   "cell_type": "code",
   "execution_count": null,
   "metadata": {},
   "outputs": [],
   "source": [
    "from interpolation import Π, Λ, ϕ, ξ, interpolate as ΣΣ\n",
    "from auxiliary import displayImages as DI, displayChannels as DC\n",
    "\n",
    "ψ, reds = Λ, 'gist_heat'; name = ψ.__name__\n",
    "\n",
    "red = np.zeros((N, N))\n",
    "for m in range(M//2):\n",
    "   red[m, ...] = np.array(ΣΣ(R_raw[m, ...], N, φ = ψ)).flat\n",
    "DI((img, red), ('Original', f'{name}-scaled rows'), cmp = reds, grid = False)\n",
    "\n",
    "for n in range(N):\n",
    "   red[..., n] = np.array(ΣΣ(red[:M//2, n], N, φ = ψ)).flat\n",
    "DI((img, red), ('Original', f'{name}-scaled rows & columns'), cmp = reds, grid = False)"
   ]
  }
 ],
 "metadata": {
  "kernelspec": {
   "display_name": "Python 3",
   "language": "python",
   "name": "python3"
  },
  "language_info": {
   "codemirror_mode": {
    "name": "ipython",
    "version": 3
   },
   "file_extension": ".py",
   "mimetype": "text/x-python",
   "name": "python",
   "nbconvert_exporter": "python",
   "pygments_lexer": "ipython3",
   "version": "3.12.0"
  }
 },
 "nbformat": 4,
 "nbformat_minor": 2
}
