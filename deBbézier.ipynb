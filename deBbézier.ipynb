{
 "cells": [
  {
   "cell_type": "markdown",
   "metadata": {},
   "source": [
    "### Writing down didaskalia (and other prerequisites)...\n",
    "\n",
    "The two pairs of 2D points, $p_0, p_3$ and $p_1, p_2$ define a Bézier curve segment.\n",
    "The curve has the following formula:\n",
    "$$p(u) = p_0(1-u)^3 + 3p_1 (1-u)^2 u + 3p_2 u^2 (1-u) + p_3 u^3 $$\n",
    "It starts at $p_0$ and ends at $p_3$. The internal points $p_1, p_2$ are called the control ones.\n"
   ]
  },
  {
   "cell_type": "code",
   "execution_count": 2,
   "metadata": {},
   "outputs": [],
   "source": [
    "# https://matplotlib.org/stable/gallery/widgets/slider_demo.html\n",
    "# https://www.pbr-book.org/4ed/Shapes/Curves\n",
    "\n",
    "import matplotlib.pyplot as plt\n",
    "from numpy import linspace as lp, outer\n",
    "from matplotlib.widgets import Button, Slider\n",
    "\n",
    "def bézier(p0, p1, p2, p3, n = 128):\n",
    "    u = lp(0, 1, n)\n",
    "    b = ( outer(P[0], (1 - u)**3)       + outer(P[1], 3*u * (1 - u)**2)\n",
    "        + outer(P[2], 3*(1 - u) * u**2) + outer(P[3], u**3))\n",
    "    return b\n",
    "\n",
    "# Endpoints and control points: $p_0, p_1, p_2, p_3$\n",
    "P = [[0, 0], [.25, -.5], [.75, .5], [1, 0]]\n",
    "pp, cp = bézier(*P), tuple(zip(*P))"
   ]
  },
  {
   "cell_type": "markdown",
   "metadata": {},
   "source": [
    "### Setting a stage..."
   ]
  },
  {
   "cell_type": "code",
   "execution_count": 3,
   "metadata": {},
   "outputs": [
    {
     "data": {
      "image/png": "[encoded data removed]",
      "text/plain": [
       "<Figure size 640x480 with 4 Axes>"
      ]
     },
     "metadata": {},
     "output_type": "display_data"
    }
   ],
   "source": [
    "# Create the figure and the Bézier curve that we will manipulate\n",
    "fig, ax = plt.subplots()\n",
    "curve, points, = ax.plot(pp[0], pp[1], '-', cp[0], cp[1], 'k.')\n",
    "ax.set_xlabel('X'), ax.set_ylabel('Y'),\n",
    "\n",
    "# adjust the main plot to make room for the sliders\n",
    "fig.subplots_adjust(left=0.25, bottom=0.25)\n",
    "# Make a horizontal slider to control the p1.X\n",
    "x_ax = fig.add_axes([0.25, 0.1, 0.65, 0.03])\n",
    "x_slider = Slider(\n",
    "    ax=x_ax,\n",
    "    label='p₁.X',\n",
    "    valmin=-2,\n",
    "    valmax=2,\n",
    "    valinit=P[1][0],\n",
    "    valstep=0.01\n",
    ")\n",
    "# Make a vertically oriented slider to control p1.Y\n",
    "y_ax = fig.add_axes([0.1, 0.25, 0.03, 0.65])\n",
    "y_slider = Slider(\n",
    "    ax=y_ax,\n",
    "    label='p₁.Y',\n",
    "    valmin=-2,\n",
    "    valmax=2,\n",
    "    valinit=P[1][1],\n",
    "    orientation=\"vertical\",\n",
    "    valstep=0.01\n",
    ")\n",
    "\n",
    "# The function to be called anytime a slider's value changes\n",
    "def update(_):\n",
    "    P[1][0], P[1][1] = x_slider.val, y_slider.val\n",
    "    pp, cp = bézier(*P), tuple(zip(*P))\n",
    "\n",
    "    curve.set_xdata(pp[0])\n",
    "    curve.set_ydata(pp[1])\n",
    "\n",
    "    points.set_xdata(cp[0])\n",
    "    points.set_ydata(cp[1])\n",
    "\n",
    "    fig.canvas.draw_idle()\n",
    "\n",
    "# Register the update function with each slider\n",
    "x_slider.on_changed(update)\n",
    "y_slider.on_changed(update)\n",
    "\n",
    "# Create a `matplotlib.widgets.Button` to reset the sliders to initial values.\n",
    "resetax = fig.add_axes([0.8, 0.025, 0.1, 0.04])\n",
    "button = Button(resetax, 'Reset', hovercolor='0.975')\n",
    "\n",
    "def reset(_):\n",
    "    x_slider.reset()\n",
    "    y_slider.reset()\n",
    "button.on_clicked(reset)\n",
    "\n",
    "plt.show() #... must go on!"
   ]
  }
 ],
 "metadata": {
  "kernelspec": {
   "display_name": "Python 3",
   "language": "python",
   "name": "python3"
  },
  "language_info": {
   "codemirror_mode": {
    "name": "ipython",
    "version": 3
   },
   "file_extension": ".py",
   "mimetype": "text/x-python",
   "name": "python",
   "nbconvert_exporter": "python",
   "pygments_lexer": "ipython3",
   "version": "3.12.0"
  }
 },
 "nbformat": 4,
 "nbformat_minor": 2
}
