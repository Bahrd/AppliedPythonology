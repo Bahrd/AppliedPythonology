{
 "cells": [
  {
   "attachments": {},
   "cell_type": "markdown",
   "metadata": {},
   "source": [
    "### Basic interpolation, _por favor_! "
   ]
  },
  {
   "cell_type": "code",
   "execution_count": null,
   "metadata": {},
   "outputs": [],
   "source": [
    "from numpy import zeros_like, arange\n",
    "from matplotlib.pyplot import plot, subplot; from auxiliary import splot\n",
    "from interpolation import Π, Λ, ϕ, ξ; Ω = lambda x: (1 - x*x) * Π(x/2)   # \"Some functions are more equal than others\"\n",
    "\n",
    "# Ready...\n",
    "N, ψ  = 9, Λ\n",
    "# Set...\n",
    "x = arange(-1, N, 0.01); χ = lambda x: (x - (N-1)/2)**2\n",
    "# Samples of 'χ' at integers         # Step-by-step 'loop-free' version     \n",
    "f = [χ(n) for n in range(N)]         # f = [16, 9, 4, 1, 0, 1, 4, 9, 16]\n",
    "# Interpolation functions 'ψ(x)' translated by 'n' and scaled by 'f(n)':\n",
    "Ψ = [f[n]*ψ(x-n)  for n in range(N)] # Ψ = f[0]*ψ(x-0), f[1]*ψ(x-1), f[2]*ψ(x-2), f[3]*ψ(x-3), f[4]*ψ(x-4), f[5]*ψ(x-5), f[6]*ψ(x-6), f[7]*ψ(x-7), f[8]*ψ(x-8)"
   ]
  },
  {
   "attachments": {},
   "cell_type": "markdown",
   "metadata": {},
   "source": [
    "### Now, let's try something _elementary_, and I **mean** it: _¡really e-l-e-m-e-n-t-a-r-y!_ Let's **literally** _\"connect the dots\"_!"
   ]
  },
  {
   "cell_type": "code",
   "execution_count": null,
   "metadata": {},
   "outputs": [],
   "source": [
    "# Go!\n",
    "C = [(1 - n/N, 1 - n/N, 0) for n in range(N)] # For color's sake!\n",
    "\n",
    "f = zeros_like(x)\n",
    "subplot(2, 1, 1)\n",
    "# 🏁 Interpolation 'f(n) ➞ f(x)'🏁\n",
    "for c, y in zip(C, Ψ): \n",
    "    splot(x, y, color = c)\n",
    "    f += y\n",
    "splot(x, f, 'red') \n",
    "subplot(2, 1, 2)\n",
    "# Together with its (inevitable) errors 'f(x) - f(n)' against the real 'f(x)' \n",
    "splot(x, f, 'red', x, χ(x) - f, 'orange', x, χ(x) , 'black')"
   ]
  }
 ],
 "metadata": {
  "kernelspec": {
   "display_name": "Python 3",
   "language": "python",
   "name": "python3"
  },
  "language_info": {
   "codemirror_mode": {
    "name": "ipython",
    "version": 3
   },
   "file_extension": ".py",
   "mimetype": "text/x-python",
   "name": "python",
   "nbconvert_exporter": "python",
   "pygments_lexer": "ipython3",
   "version": "3.10.2"
  },
  "orig_nbformat": 4
 },
 "nbformat": 4,
 "nbformat_minor": 2
}
