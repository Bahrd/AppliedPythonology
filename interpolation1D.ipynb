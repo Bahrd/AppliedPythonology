{
 "cells": [
  {
   "attachments": {},
   "cell_type": "markdown",
   "metadata": {},
   "source": [
    "## Basic interpolation, _por favor_! "
   ]
  },
  {
   "cell_type": "code",
   "execution_count": null,
   "metadata": {},
   "outputs": [],
   "source": [
    "from numpy import zeros_like, arange; \n",
    "from matplotlib.pyplot import plot\n",
    "from interpolation import Π, Λ, ϕ, ξ; Ω = lambda x:  (1 - x*x) * Π(x/2)   # \"Some functions are more equal than others\"\n",
    "# Ready...\n",
    "N, ψ  = 9, Λ # Π, Ω, ϕ, Λ, ξ\n",
    "C = [(1 - n/N, 1 - n/N, 0) for n in range(N)] # For color's sake!\n",
    "# Set...\n",
    "x = arange(-1, N, 0.01)\n",
    "fx = [(_ - (N-1)/2)**3 for _ in x]\n",
    "# Samples of f for integer arguments     # Step-by-step 'loop-free' version     \n",
    "f = [(n - (N-1)/2)**3 for n in range(N)] # f = [16, 9, 4, 1, 0, 1, 4, 9, 16]\n",
    "# Translated (by 'n') and scaled (by 'f(n)') interpolation functions 'ψ(x)':\n",
    "Ψ = [f[n] * ψ(x - n)  for n in range(N)] # Ψ = f[0]*ψ(x-0), f[1]*ψ(x-1), f[2]*ψ(x-2), f[3]*ψ(x-3), f[4]*ψ(x-4), f[5]*ψ(x-5), f[6]*ψ(x-6), f[7]*ψ(x-7), f[8]*ψ(x-8)"
   ]
  },
  {
   "attachments": {},
   "cell_type": "markdown",
   "metadata": {},
   "source": [
    "Now, let's try something _elementary_, and I **mean** it: _¡really elementary!_ \n",
    "Let's _\"connect the dots\"_!\n",
    "Literally!"
   ]
  },
  {
   "cell_type": "code",
   "execution_count": null,
   "metadata": {},
   "outputs": [],
   "source": [
    "#Go!\n",
    "f = zeros_like(x)\n",
    "for c, y in zip(C, Ψ): \n",
    "    plot(x, y, color = c)\n",
    "    f += y\n",
    "# 🏁 Interpolation 'f(n) ➞ f(x)' and its (inevitable) error 'f(x) - f(n)'🏁\n",
    "plot(x, f, 'red', x, fx - f, 'orange')"
   ]
  }
 ],
 "metadata": {
  "kernelspec": {
   "display_name": "Python 3",
   "language": "python",
   "name": "python3"
  },
  "language_info": {
   "codemirror_mode": {
    "name": "ipython",
    "version": 3
   },
   "file_extension": ".py",
   "mimetype": "text/x-python",
   "name": "python",
   "nbconvert_exporter": "python",
   "pygments_lexer": "ipython3",
   "version": "3.10.2"
  },
  "orig_nbformat": 4
 },
 "nbformat": 4,
 "nbformat_minor": 2
}
