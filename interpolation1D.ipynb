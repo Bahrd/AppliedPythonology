{
 "cells": [
  {
   "attachments": {},
   "cell_type": "markdown",
   "metadata": {},
   "source": [
    "### Basic interpolation, _por favor_! "
   ]
  },
  {
   "cell_type": "code",
   "execution_count": null,
   "metadata": {},
   "outputs": [],
   "source": [
    "from numpy import zeros_like, arange\n",
    "from matplotlib.pyplot import plot, subplot; from auxiliary import splot\n",
    "from interpolation import Π, Λ, ϕ, ξ; Ω = lambda x: (1 - x*x) * Π(x/2)   # \"Some functions are more equal than others\"\n",
    "\n",
    "# Ready...\n",
    "N, ψ  = 9, Λ\n",
    "# Set...\n",
    "x = arange(-1, N, 0.01); f = lambda x: (x - (N - 1)/2)**2\n",
    "# Samples of 'f' at integers          \n",
    "_f = [f(n) for n in range(N)]         \n",
    "# Interpolation functions 'ψ(x)', translated by 'n' and scaled by 'f(n)':\n",
    "Ψ = [ψ(x - n) for n in range(N)] # "
   ]
  },
  {
   "attachments": {},
   "cell_type": "markdown",
   "metadata": {},
   "source": [
    "### Now, let's try something elementary, and I **mean** it: ¡really e-l-e-m-e-n-t-a-r-y! Let's **literally** _\"connect the dots\"_!"
   ]
  },
  {
   "cell_type": "code",
   "execution_count": null,
   "metadata": {},
   "outputs": [],
   "source": [
    "# Go!\n",
    "C = [(1 - n/N, 1 - n/N, 0) for n in range(N)] # For color's sake!\n",
    "\n",
    "# 🏁 Interpolation 'f(n) ➞ f(x)'🏁\n",
    "subplot(2, 1, 1)\n",
    "_f_ = zeros_like(x)\n",
    "for n, (c, ψ) in enumerate(zip(C, Ψ)): \n",
    "    ψ_fn = ψ * _f[n]\n",
    "    _f_ += ψ_fn\n",
    "    splot(x, ψ_fn, color = c)\n",
    "splot(x, _f_, 'red') \n",
    "# Together with its (inevitable) errors 'f(x) - f(n)', against the actual 'f(x)'\n",
    "subplot(2, 1, 2)\n",
    "splot(x, _f_, 'red', x, f(x) - _f_, 'orange', x, f(x) , 'black')"
   ]
  },
  {
   "attachments": {},
   "cell_type": "markdown",
   "metadata": {},
   "source": [
    "♪♫\n",
    "_Slow down, you move too fast, you got to make the morning last_\n",
    "\n",
    "_Just kicking down **the cobble stones**, looking for fun and feelin' groovy..._\n",
    "♫♪"
   ]
  },
  {
   "cell_type": "code",
   "execution_count": null,
   "metadata": {},
   "outputs": [],
   "source": [
    "# Go, go, go! (a step-by-step-loop-free version is fun as well...) \n",
    "f, ψ = [16, 9, 4, 1, 0, 1, 4, 9, 16], Λ\n",
    "Ψ = [f[0]*ψ(x-0), f[1]*ψ(x-1), f[2]*ψ(x-2), f[3]*ψ(x-3), f[4]*ψ(x-4), f[5]*ψ(x-5), f[6]*ψ(x-6), f[7]*ψ(x-7), f[8]*ψ(x-8)]\n",
    "\n",
    "_f_ = zeros_like(x)\n",
    "for c, ψ in zip(C, Ψ): \n",
    "    splot(x, ψ, color = c)\n",
    "    _f_ += ψ\n",
    "splot(x, _f_, color = 'red')"
   ]
  }
 ],
 "metadata": {
  "kernelspec": {
   "display_name": "Python 3",
   "language": "python",
   "name": "python3"
  },
  "language_info": {
   "codemirror_mode": {
    "name": "ipython",
    "version": 3
   },
   "file_extension": ".py",
   "mimetype": "text/x-python",
   "name": "python",
   "nbconvert_exporter": "python",
   "pygments_lexer": "ipython3",
   "version": "3.10.2"
  },
  "orig_nbformat": 4
 },
 "nbformat": 4,
 "nbformat_minor": 2
}
