{
 "cells": [
  {
   "cell_type": "markdown",
   "metadata": {},
   "source": [
    "2D rotation - a canonical version with an implicit NN interpolation\n",
    "Be careful however, because (\"Timeo Danaos et dona ferentes!\"?) Python \n",
    "thinks that 'ϑ is θ == True' (and so are 'ϱ' and 'ρ', see ll. 39-40)!"
   ]
  },
  {
   "cell_type": "code",
   "execution_count": null,
   "metadata": {},
   "outputs": [],
   "source": [
    "import sys, os; sys.path.insert(0, os.path.abspath('..'))\n",
    "from interpolation import Π, Λ, ϕ, ξ, eddie\n",
    "from auxiliary import displayImages as DI\n",
    "from random import randrange as RR, choice\n",
    "from numpy import array, empty, arange as A, tensordot as tendot\n",
    "from math import sin, cos, pi as π\n",
    "from sys import argv\n",
    "\n",
    "''' 2D rotation - the canonical version of the NN, bi-linear and bi-qubic-based algorithms\n",
    "If one wants a serious 2D:\n",
    "https://scipython.com/book/chapter-8-scipy/additional-examples/interpolation-of-an-image/ '''\n",
    "\n",
    "clp = lambda n, nmax, nmin = 0: nmin if n < 0 else n if n < nmax else nmax - 1\n",
    "rclp = lambda n, m, nmax: (clp(n, nmax), clp(m, nmax)) # range clipper\n",
    "\n",
    "##Turning a 2D image f(n, m) into a 2D function f(x, y) - using 'Π, Λ, ϕ, ξ'\n",
    "\n",
    "'''A not-so-quick-yet-dirty (loop-in-loop) version...\n",
    "Since \"premature optimization is the root of all evil\"!\n",
    "-- D. Knuth [http://wiki.c2.com/?PrematureOptimization]'''\n",
    "def fl(img, x, y, ψ = ϕ, Δ = 0b11):\n",
    "    N, M = img.shape; xx, yy = int(x), int(y)\n",
    "\n",
    "    fxy = 0.0\n",
    "    for n in range(*rclp(xx - Δ, xx + Δ, N)):\n",
    "        for m in range(*rclp(yy - Δ, yy + Δ, M)):\n",
    "            fxy += ψ(x - n) * ψ(y - m) * img[n, m]\n",
    "    return fxy\n",
    "# ... and a quicker'n'cleaner (explicit-loop-free) one\n",
    "def ft(img, x, y, ψ = ϕ, Δ = 0b11):\n",
    "    N, M = img.shape; xx, yy = int(x), int(y)\n",
    "    n, m = A(*rclp(xx - Δ, xx + Δ, N)), A(*rclp(yy - Δ, yy + Δ, M))\n",
    "\n",
    "    fx, fy = ψ(x - n), ψ(y - m)\n",
    "    fxy = tendot(fx, fy, axes = 0)\n",
    "\n",
    "    img = img[clp(xx - Δ, N):clp(xx + Δ, N), clp(yy - Δ, M):clp(yy + Δ, M)]\n",
    "    return tendot(fxy, img)\n",
    "\n",
    "## Setting...\n",
    "#  A rotation angle α...\n",
    "ϱ = RR(-180, 180) #°\n",
    "α, Cu = ϱ * π/180.0, 'copper' # Main and auxiliary variables\n",
    "\n",
    "#  A source image...\n",
    "img = eddie; M = len(img); N = eval(argv[0b10]) if len(argv) > 0b10 else M << 0b1\n",
    "out = empty((N, N))\n",
    "# ... and rotation of ϑ = [x, y].T, w.r.t. OXY and through that angle\n",
    "OXY, Rα = array([M/2, M/2]), array([[cos(α), -sin(α)],\n",
    "                                    [sin(α),  cos(α)]]) # turns clockwise when α > 0\n",
    "\n",
    "# ... and an interpoland...:) Π, Λ, ϕ, ξ, \"or else...\"\n",
    "nomina = argv[0b11] if len(argv) > 0b11 else Λ.__name__; ψ = eval(nomina)\n",
    "ToF = lambda: choice([True, False])\n",
    "\n",
    "f = fl if ToF() else ft\n",
    "if ToF():\n",
    "    # Omloop Het...\n",
    "    for n in range(N):\n",
    "        for m in range(N):\n",
    "            ϑ = array([n/N, m/N]) * M - OXY\n",
    "            x, y = Rα @ ϑ + OXY\n",
    "            out[n, m] = f(img, x, y, ψ) # cf. rotationNN.py's '... = img[x, y]'\n",
    "else:\n",
    "    # A harder-coded version (but a tad faster, right?)\n",
    "    out = [[f(img, *(OXY + Rα @ (array([n/N, m/N]) * M - OXY)), ψ)\n",
    "                                                 for m in range(N)]\n",
    "                                                 for n in range(N)]\n",
    "\n",
    "for grid in (False, True):\n",
    "    DI((img, out), ('Original', f'{nomina}-rotated by {ϱ}°'), cmp = Cu, grid = grid)"
   ]
  },
  {
   "cell_type": "markdown",
   "metadata": {},
   "source": [
    "# Random users' fun: \n",
    "\n",
    "``python .\\rotation2D.py '-RR(44)' '42 + RR(7) - 6' 'lambda x: ϕ(x + RR(9)/12)'``\n",
    "\n",
    "44:   \"A imię jego...\" A. M. Dz. III\n",
    "42:   The Deep Thought's answer ( = 7 * 6)\n",
    "9/12: A quote of Heidegger/Wittgenstein\n",
    "\n",
    "A note to random fans: f ≠ fl!\n",
    "And an $\\iota$-note for Greek geeks: $\\phi$ ≡ $\\varphi$! '''\n"
   ]
  }
 ],
 "metadata": {
  "kernelspec": {
   "display_name": "Python 3",
   "language": "python",
   "name": "python3"
  },
  "language_info": {
   "codemirror_mode": {
    "name": "ipython",
    "version": 3
   },
   "file_extension": ".py",
   "mimetype": "text/x-python",
   "name": "python",
   "nbconvert_exporter": "python",
   "pygments_lexer": "ipython3",
   "version": "3.12.0"
  }
 },
 "nbformat": 4,
 "nbformat_minor": 2
}
