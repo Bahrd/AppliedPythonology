{
 "cells": [
  {
   "attachments": {},
   "cell_type": "markdown",
   "metadata": {},
   "source": [
    "Basic interpolation, _por favor_! "
   ]
  },
  {
   "cell_type": "code",
   "execution_count": null,
   "metadata": {},
   "outputs": [],
   "source": [
    "from numpy import zeros_like, arange, exp\n",
    "from matplotlib.pyplot import plot, subplot;\n",
    "\n",
    "import sys, os; sys.path.insert(0, os.path.abspath('..'))\n",
    "from auxiliary import splot\n",
    "from interpolation import Π, Λ, ϕ, ξ; Ω = lambda x: (1 - x*x) * Π(x/2)   # \"Some functions are more equal than others\"\n",
    "\n",
    "# Ready...\n",
    "N, ψ  = 10, Π\n",
    "# Set...                              #(exp(-.125(x - (N - 1)/2)**2))\n",
    "x = arange(-1, N, 0.001); f = lambda x: (x - (N - 1)/2)**3\n",
    "# Samples of 'f' at integers\n",
    "f_ = [f(n) for n in range(N)]\n",
    "# Interpolation functions 'ψ(x)', translated by 'n':\n",
    "Ψ = [ψ(x - n) for n in range(N)] #"
   ]
  },
  {
   "attachments": {},
   "cell_type": "markdown",
   "metadata": {},
   "source": [
    "Now, let's try something elementary, and I **mean** it: ¡really e-l-e-m-e-n-t-a-r-y!  \n",
    "Let's *\"connect the dots\"*, and let's do it ***literally***!"
   ]
  },
  {
   "cell_type": "code",
   "execution_count": null,
   "metadata": {},
   "outputs": [],
   "source": [
    "# Go!\n",
    "C = [(1 - n/N, 1 - n/N, 0) for n in range(N)] # For color's sake!\n",
    "\n",
    "# 🏁 Interpolation 'f(n) ➞ f(x)'🏁\n",
    "subplot(4, 1, 1)\n",
    "splot(x, f(x), 'black')\n",
    "subplot(4, 1, 2)\n",
    "f__ = zeros_like(x)\n",
    "for n, (c, ψ) in enumerate(zip(C, Ψ)):\n",
    "    _ = ψ * f_[n]\n",
    "    f__ += _\n",
    "    splot(x, _, color = c)\n",
    "# The interpolation\n",
    "subplot(4, 1, 3)\n",
    "splot(x, f__, 'red')\n",
    "# Together with its (¿¡inevitable!?) errors 'f(x) - f(n)', against the actual 'f(x)'\n",
    "subplot(4, 1, 4)\n",
    "splot(x, f__, 'red', x, f(x) - f__, 'orange', x, f(x) , 'black')"
   ]
  },
  {
   "attachments": {},
   "cell_type": "markdown",
   "metadata": {},
   "source": [
    "> ♪♫\n",
    "> _Slow down, you move too fast,_<br>\n",
    "> _you got to make the morning last_  \n",
    "> _Just kicking down **the cobble stones**,_<br>\n",
    "> _looking for fun and [feelin' groovy](https://youtu.be/So0ZrTwf8vI?t=22)..._\n",
    "> ♫♪"
   ]
  },
  {
   "cell_type": "code",
   "execution_count": null,
   "metadata": {},
   "outputs": [],
   "source": [
    "# Go, go, go! (a step-by-step-loop-free version is fun as well...)\n",
    "f_, ψ = [1, 1, 1, 2, 2, 2, 1, 1, 1, 1, 1], ϕ # Π, Λ, ϕ, ξ;\n",
    "x = arange(-1, len(f_), 0.02)\n",
    "Ψ = [f_[0]*ψ(x-0),f_[1]*ψ(x-1),f_[2]*ψ(x-2),f_[3]*ψ(x-3),\n",
    "     f_[4]*ψ(x-4),f_[5]*ψ(x-5),f_[6]*ψ(x-6),f_[7]*ψ(x-7),\n",
    "     f_[8]*ψ(x-8),f_[9]*ψ(x-9),f_[10]*ψ(x-10)]\n",
    "\n",
    "f__ = zeros_like(x)\n",
    "for c, ψ in zip(C, Ψ):\n",
    "    splot(x, ψ, color = c)\n",
    "    f__ += ψ\n",
    "splot(x, f__, color = 'red')"
   ]
  },
  {
   "cell_type": "code",
   "execution_count": null,
   "metadata": {},
   "outputs": [],
   "source": [
    "f_, len(f_)"
   ]
  },
  {
   "cell_type": "markdown",
   "metadata": {},
   "source": [
    "On **Monday, November the 4th, at 11:15AM**, we (extraordinary kindly) asked Copilot for a favor (*i.e.* to translate the formula into a code): \n",
    "$$\n",
    "f\\left(  x\\right)  =\\sum_{n=0}^{N-1}f\\left(  n\\right)  \\varphi\\left(\n",
    "x-n\\right)\n",
    "$$\n",
    "... and we were given it readily. The question is **when** (rather than **if**) will we have to return the favor!"
   ]
  },
  {
   "cell_type": "code",
   "execution_count": null,
   "metadata": {},
   "outputs": [],
   "source": [
    "from numpy import arange, zeros_like\n",
    "# Implementacja wzoru f(x) = sum_{n=0}^{N-1} f(n) * ϕ(x - n)\n",
    "def interpolate_function(f_values, phi, x_range):\n",
    "   N = len(f_values)\n",
    "   interpolated_values = zeros_like(x_range)\n",
    "   for n in range(N):\n",
    "      interpolated_values += f_values[n] * phi(x_range - n)\n",
    "   return interpolated_values\n",
    "\n",
    "# Przykładowe użycie\n",
    "x_range = arange(-1, len(f_), 0.02)\n",
    "interpolated_values = interpolate_function(f_, ϕ, x_range)\n",
    "\n",
    "# Rysowanie interpolowanej funkcji\n",
    "splot(x_range, interpolated_values, color='blue')"
   ]
  }
 ],
 "metadata": {
  "kernelspec": {
   "display_name": "Python 3",
   "language": "python",
   "name": "python3"
  },
  "language_info": {
   "codemirror_mode": {
    "name": "ipython",
    "version": 3
   },
   "file_extension": ".py",
   "mimetype": "text/x-python",
   "name": "python",
   "nbconvert_exporter": "python",
   "pygments_lexer": "ipython3",
   "version": "3.12.0"
  },
  "orig_nbformat": 4
 },
 "nbformat": 4,
 "nbformat_minor": 2
}
