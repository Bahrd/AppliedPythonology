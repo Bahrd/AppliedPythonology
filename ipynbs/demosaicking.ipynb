{
 "cells": [
  {
   "cell_type": "markdown",
   "metadata": {},
   "source": [
    "# Demosaickin<font color='green'>g</font> with the help of li<font color='blue'>b</font><font color='red'>r</font>ary functions\n",
    "For future reference (and for all <font color='red'>R</font><font color='green'>G</font><font color='blue'>B</font> channels) - but with [**almost**](#illustration-of-application-of-superposition) no educational charm [**what.so.ever**](#a-slighignificantly-more-re-educational-version)..."
   ]
  },
  {
   "cell_type": "code",
   "execution_count": null,
   "metadata": {},
   "outputs": [],
   "source": [
    "import cv2; import numpy as np; import auxiliary as aux\n",
    "\n",
    "scheme = cv2.INTER_CUBIC\n",
    "img = cv2.resize(cv2.cvtColor(cv2.imread('./images/GrassHopper.png'), cv2.COLOR_BGR2RGB),\n",
    "                 (512, 512),\n",
    "                 interpolation = scheme)\n",
    "\n",
    "## Moisaicking (Bayer CFA)\n",
    "N, M, _ = img.shape\n",
    "raws  = img[0:N:2, 0:M:2, 0], img[1:N:2, 1:M:2, 2], img[1:N:2, 0:M:2, 1], img[0:N:2, 1:M:2, 1]"
   ]
  },
  {
   "cell_type": "markdown",
   "metadata": {},
   "source": [
    "## Illustration of application of **superposition**\n",
    "Observe that we use linearity property to restore the green channel as if there are two separate sub green ones.\n",
    "$$\n",
    "\\begin{bmatrix}\n",
    "\\color{red}{R} & \\color{green}{G_I}\\\\\n",
    "\\color{green}{G_{II}} & \\color{blue}{B}\n",
    "\\end{bmatrix}\n",
    "=\n",
    "\\begin{bmatrix}\n",
    "\\color{red}{R} & 0\\\\\n",
    "0 & 0\n",
    "\\end{bmatrix}\n",
    "+\n",
    "\\underset{=\\color{green}{G}}{\\underbrace{\\left[\n",
    "\\begin{bmatrix}\n",
    "0 & \\color{green}{G_I}\\\\\n",
    "0 & 0\n",
    "\\end{bmatrix}\n",
    "+\n",
    "\\begin{bmatrix}\n",
    "0 & 0\\\\\n",
    "\\color{green}{G_{II}} & 0\n",
    "\\end{bmatrix}\n",
    "\\right]}}\n",
    "+\n",
    "\\begin{bmatrix}\n",
    "0 & 0\\\\\n",
    "0 & \\color{blue}{B}\n",
    "\\end{bmatrix}\n",
    "$$"
   ]
  },
  {
   "cell_type": "code",
   "execution_count": null,
   "metadata": {},
   "outputs": [],
   "source": [
    "## De-mosaicking (de-Bayering by interpolation)\n",
    "R, B, GI, GII = [cv2.resize(raw_channel, (M, N), interpolation = scheme) for raw_channel in raws]\n",
    "G = GI//2 + GII//2\n",
    "\n",
    "images = ('Original', 'R', 'B', '1st G', '2nd G', 'G')\n",
    "aux.displayImages((img, R, B, GI, GII, G), images, grid = False)\n",
    "\n",
    "rgb = np.dstack((R, G, B)); cc = ('red', 'green', 'blue')\n",
    "aux.displayChannels((img, rgb), cc)\n",
    "\n",
    "images = ('Original', 'Demo\\'ed', 'Little diff\\'s') # So to speak... https://youtu.be/ab7eVVG3I8s?t=43\n",
    "aux.displayImages((img, rgb, rgb - img), images, grid = False)"
   ]
  },
  {
   "cell_type": "markdown",
   "metadata": {},
   "source": [
    "## A **s[ligh|ignifican]tly** more re-educational version... \n",
    "Here, in turn, we re-use (so you don't have to but should anyway!) our own (and a bit majestic) interpolating routine (albeit for the **<font color='blue'>B</font> channel** only...)."
   ]
  },
  {
   "cell_type": "code",
   "execution_count": null,
   "metadata": {},
   "outputs": [],
   "source": [
    "from interpolation import interpolate as Σ, ϕ #Π, Λ\n",
    "from matplotlib.colors import LinearSegmentedColormap as lscm\n",
    "\n",
    "# Linear interpolation\n",
    "ψ = ϕ; name = ψ.__name__\n",
    "blues = lscm.from_list('_', ['black', 'blue'])\n",
    "\n",
    "blue = np.zeros((N, N))\n",
    "# Rows first...\n",
    "for m in range(M >> 1):\n",
    "   blue[m, ...] = np.matrix(Σ(raws[1][m, ...], N, φ = ψ)).flat    # Matrix? Eclipses? Thingamajig!\n",
    "aux.displayImages((img, blue),\n",
    "                  ('Original', f'{name}-demo\\'ed blue rows'),\n",
    "                   cmp = blues, grid = False)\n",
    "# ...then columns\n",
    "for n in range(N):\n",
    "   blue[:, n] = np.array(Σ(blue[:M >> 1, n], N, φ = ψ)).flat       # Array? Semicolons? Whatchamacallit!\n",
    "aux.displayImages((img, blue),\n",
    "                  ('Original', f'{name}-demo\\'ed blue rows & columns'),\n",
    "                   cmp = blues, grid = False)"
   ]
  }
 ],
 "metadata": {
  "kernelspec": {
   "display_name": "Python 3",
   "language": "python",
   "name": "python3"
  },
  "language_info": {
   "codemirror_mode": {
    "name": "ipython",
    "version": 3
   },
   "file_extension": ".py",
   "mimetype": "text/x-python",
   "name": "python",
   "nbconvert_exporter": "python",
   "pygments_lexer": "ipython3",
   "version": "3.12.0"
  }
 },
 "nbformat": 4,
 "nbformat_minor": 2
}
