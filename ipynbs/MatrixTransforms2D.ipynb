{
 "cells": [
  {
   "cell_type": "markdown",
   "metadata": {},
   "source": [
    "# How to transform a (*kinky*) square shape in 2D..."
   ]
  },
  {
   "cell_type": "code",
   "execution_count": null,
   "metadata": {},
   "outputs": [],
   "source": [
    "from numpy import array, identity as I\n",
    "import matplotlib.pyplot as plt\n",
    "from matplotlib.patches import Polygon\n",
    "from math import pi as π, cos, sin\n",
    "from random import random\n",
    "\n",
    "# A bit of randomness...\n",
    "σ = lambda x = 1: 2*x*(random() - 0.5)\n",
    "\n",
    "# Transformation of the polygon's vertices\n",
    "transform = lambda P, points: array([P @ p for p in points])\n",
    "# Homogeneous to Euclidean coordinates conversion\n",
    "h2e = lambda X: array([x[:-1]/x[-1] for x in X])\n",
    "\n",
    "# And here, anchored at the very origin, is our square with a kink shape...\n",
    "sqwk = array([[0, 0, 1], [1, 0, 1], [1, 1, 1], [.25, .25, 1], [0, 1, 1]])\n",
    "# ... t.b.t. (to be transformed)!"
   ]
  },
  {
   "cell_type": "markdown",
   "metadata": {},
   "source": [
    "## ... with a little help of the mighty (not almighty!) **linear algebra**\n",
    "The identity matrix $\\mathbf{I}$\n",
    "$$\n",
    "\\mathbf{I}=\n",
    "\\begin{bmatrix}\n",
    "1 & 0 & 0\\\\\n",
    "0 & 1 & 0\\\\\n",
    "0 & 0 & 1\n",
    "\\end{bmatrix}\n",
    "$$\n",
    "can serve as a placeholder only here, but various variants of $3\\times 3$ matrices will be used to transform vectors $\\left[x, y, 1\\right]^T$ (representing 2D points $\\left[x, y\\right]^T$ in homogenous coordinates):"
   ]
  },
  {
   "cell_type": "code",
   "execution_count": null,
   "metadata": {},
   "outputs": [],
   "source": [
    "## Identity transformation (a.k.a. \"do nothing but with great style!\"), and...\n",
    "#  A homage of vertices to the brave Gauls!\n",
    "#  - https://1drv.ms/i/s!ArXn9WU5UgjzmYdtYHyukpDGvxSkBg?e=X5pBuv\n",
    "#  - https://1drv.ms/i/s!ArXn9WU5UgjzrJ4QQ8nPLXAKyfNEKg?e=fKjjx2\n",
    "sqwk = transform(I(3), sqwk); Vercingetorix = h2e(sqwk)"
   ]
  },
  {
   "cell_type": "markdown",
   "metadata": {},
   "source": [
    "## Translation|shift\n",
    "\n",
    "Thanks to the use homogeneous coordinates, shifting by a vector $\\left[{\\color{red}{k}}, {\\color{blue}{l}}\\right]^T$ is a linear operation:\n",
    "$$\n",
    "\\mathbf{T}_{{\\color{red}{k}}, {\\color{blue}{l}}}=\n",
    "\\begin{bmatrix}\n",
    "1 & 0 & {\\color{red}{k}}\\\\\n",
    "0 & 1 & {\\color{blue}{l}}\\\\\n",
    "0 & 0 & 1\n",
    "\\end{bmatrix}\n",
    "$$"
   ]
  },
  {
   "cell_type": "code",
   "execution_count": null,
   "metadata": {},
   "outputs": [],
   "source": [
    "# Our k-square after translation by k and l...\n",
    "k, l = 1.5 + σ(), 1 + σ()\n",
    "T = I(3); _T = array([k, l]).reshape(1, 2) # Reshaping/transposition seems superfluous here,\n",
    "T[:2, 2] = _T                              # but we want to keep it straigh.T!"
   ]
  },
  {
   "cell_type": "markdown",
   "metadata": {},
   "source": [
    "## Rotation\n",
    "\n",
    "Here is a formula for a rotation matrix (by an angle ${\\color{red}{\\alpha}}$)\n",
    "$$\n",
    "\\mathbf{R}_{\\color{red}{\\alpha}}=\n",
    "\\begin{bmatrix}\n",
    "\\cos{\\color{red}{\\alpha}} & -\\sin{\\color{red}{\\alpha}} & 0\\\\\n",
    "\\sin{\\color{red}{\\alpha}} & \\cos{\\color{red}{\\alpha}} & 0\\\\\n",
    "0 & 0 & 1\n",
    "\\end{bmatrix}\n",
    "$$\n",
    "Observe that $\\det(\\mathbf{R}_{\\color{red}{\\alpha}}) = \\cos^2{\\color{red}{\\alpha}} + \\sin^2{\\color{red}{\\alpha}} = 1$:"
   ]
  },
  {
   "cell_type": "code",
   "execution_count": null,
   "metadata": {},
   "outputs": [],
   "source": [
    "# ... and after rotation by α degrees...\n",
    "α = σ(π/60)\n",
    "R = I(3); _R = array([[cos(α), -sin(α)],\n",
    "                      [sin(α),  cos(α)]])\n",
    "R[:2, :2] = _R"
   ]
  },
  {
   "cell_type": "markdown",
   "metadata": {},
   "source": [
    "## Squeezing, stretching, shearing & scaling section – [Procrustes](https://en.wikipedia.org/wiki/Procrustes) would've loved it!\n",
    "\n",
    "These matrices look s's''s'''o straighforward:\n",
    "$$\n",
    "\\mathbf{S}'_{{{\\color{red}{k}},{\\color{blue}{\\kappa}}}}=\n",
    "\\begin{bmatrix}\n",
    "{\\color{red}{k}} & 0 & 0\\\\\n",
    "0 & {\\color{blue}{\\kappa}} & 0\\\\\n",
    "0 & 0 & 1\n",
    "\\end{bmatrix},\\quad\n",
    "\\mathbf{S''_{\\color{blue}{\\kappa}}}=\n",
    "\\begin{bmatrix}\n",
    "{\\color{blue}{\\kappa}} & 0           & 0\\\\\n",
    "0      & {\\color{blue}{\\kappa}}^{-1} & 0\\\\\n",
    "0 & 0 & 1\n",
    "\\end{bmatrix},\\quad\n",
    "\\mathbf{S}'''_{{{\\color{red}{k}},{\\color{blue}{\\kappa}}}}=\n",
    "\\begin{bmatrix}\n",
    "1      & {\\color{red}{k}} & 0\\\\\n",
    "{\\color{blue}{\\kappa}} & 1      & 0\\\\\n",
    "0 & 0 & 1\n",
    "\\end{bmatrix},\\quad\n",
    "\\mathbf{S}_{{\\color{red}s}}=\n",
    "\\begin{bmatrix}\n",
    "{\\color{red}{s}} & 0 & 0\\\\\n",
    "0 & {\\color{red}{s}} & 0\\\\\n",
    "0 & 0 & 1\n",
    "\\end{bmatrix}\n",
    "$$"
   ]
  },
  {
   "cell_type": "code",
   "execution_count": null,
   "metadata": {},
   "outputs": [],
   "source": [
    "# See https://en.wikipedia.org/wiki/Transformation_matrix#/media/File:2D_affine_transformation_matrix.svg\n",
    "# and https://en.wikipedia.org/wiki/Transformation_matrix#/media/File:Perspective_transformation_matrix_2D.svg\n",
    "# stretching\n",
    "k, κ = .5 + σ(.5), .5+ σ(.5)\n",
    "S_prim = array([[k, 0, 0],\n",
    "                [0, κ, 0],\n",
    "                [0, 0, 1]])\n",
    "# ... squeezing\n",
    "S_bis = array([[1/κ, 0, 0],\n",
    "               [0,   κ, 0],\n",
    "               [0,   0, 1]])\n",
    "# and shearing\n",
    "S_ter = array([[1, k, 0],\n",
    "               [κ, 1, 0],\n",
    "               [0, 0, 1]])\n",
    "# ... and just scaling, too\n",
    "s = 1 + σ(.5)\n",
    "S = I(3); _S = array([[s, 0],\n",
    "                      [0, s]])\n",
    "S[:2, :2] = _S\n",
    "# \"Quidquid latine dictum sit altum videtur!\" (https://en.wikipedia.org/wiki/Latin_numerals)"
   ]
  },
  {
   "cell_type": "markdown",
   "metadata": {},
   "source": [
    "## Reflections (thnX, [Hauseholder](https://en.wikipedia.org/wiki/Alston_Scott_Householder)!)\n",
    "\n",
    "It is not exactly obvious that the matrix implements reflection about the line from origin $(0, 0)$ through $({\\color{red}{l_x}}, {\\color{blue}{l_y}})$. \n",
    "$$\n",
    "\\mathbf{M}_{{\\color{red}{l_x}},{\\color{blue}{l_y}}}=\\frac{1}{{\\color{red}{l_x}}^2 + {\\color{blue}{l_y}}^2}\n",
    "\\begin{bmatrix}\n",
    "{\\color{red}{l_x}}^2 - {\\color{blue}{{l_y}}}^2 & 2{\\color{red}{l_x}}\\color{blue}{{l_y}}         & 0\\\\\n",
    "{2\\color{red}{l_x}}\\color{blue}{{l_y}}         & {\\color{red}{l_x}}^2 - {\\color{blue}{{l_y}}}^2 & 0\\\\\n",
    "0                                              & 0                                              & 1\n",
    "\\end{bmatrix}\n",
    "$$\n",
    "That will be clear one day, when we derive a projection formula..."
   ]
  },
  {
   "cell_type": "code",
   "execution_count": null,
   "metadata": {},
   "outputs": [],
   "source": [
    "# Reflection:\n",
    "lx, ly = 1 + σ(.25), 1 + σ(.25)\n",
    "M = I(3)\n",
    "_M = array([[lx**2 - ly**2,     2*lx*ly  ],\n",
    "            [    2*lx*ly  , ly**2 - lx**2]])\n",
    "_M = _M/(lx**2 + ly**2)\n",
    "M[:2, :2] = _M"
   ]
  },
  {
   "cell_type": "markdown",
   "metadata": {},
   "source": [
    "## ♪[♫And all that jazz♫](https://youtu.be/Xx_eoxvYvc8)♪ — and yet a [single swing](#all-right-in-more-than-one-swing)!\n",
    "\n",
    "Regardless of how many transformation we need to apply, we can always multiply them first altogether to get a single transformation matrix $\\color{red}{\\Theta}$:\n",
    "$$\n",
    "X' = {\\color{red}{\\Theta}} X,\\quad {\\color{red}{\\Theta}} = \\mathbf{M}_{{\\color{red}{l_x}},{\\color{blue}{l_y}}}\\cdot\\mathbf{T}_{{\\color{red}{k}},{\\color{blue}{l}}} \\cdot\\mathbf{S}_{{\\color{red}s}}\\cdot\\mathbf{R}_{\\color{red}{\\alpha}}\\cdot\\mathbf{S}'''_{{{\\color{red}{k}},{\\color{blue}{\\kappa}}}}\n",
    "$$\n",
    "Remember, however, about the order: matrix multiplication is not commutative (in general)."
   ]
  },
  {
   "cell_type": "code",
   "execution_count": null,
   "metadata": {},
   "outputs": [],
   "source": [
    "# Feel free to further squeeze, stretch, shear the shape (and mix the order too)...\n",
    "Θ = M@T@S@R@S_ter  # M@T@S@R@S_ter != S_ter@R@S@T@M, for instance!\n",
    "sqwk = transform(Θ, sqwk); Asterix = h2e(sqwk)"
   ]
  },
  {
   "cell_type": "markdown",
   "metadata": {},
   "source": [
    "# Projections\n",
    "Perhaps surprisingly, given a form of the matrix of Hausholder, the perspective projection matrix \n",
    "$$\n",
    "\\mathbf{P}_{{\\color{red}{a}}, {\\color{blue}{b}}}=\n",
    "\\begin{bmatrix}\n",
    "1 & 0 & 0\\\\\n",
    "0 & 1 & 0\\\\\n",
    "{\\color{red}{a}} & {\\color{blue}{b}} & 0\n",
    "\\end{bmatrix}\n",
    "$$\n",
    "that turns a homogeneous point $X'$ into its projection $X''$:\n",
    "$$X'' = \\mathbf{P}_{{\\color{red}{a}}, {\\color{blue}{b}}}X'$$\n",
    "onto a line ${\\color{red}{a}}x + {\\color{blue}{b}}y = 1$ (with a center of the projection located at the origin $(0, 0)$),  is fairly simple."
   ]
  },
  {
   "cell_type": "code",
   "execution_count": null,
   "metadata": {},
   "outputs": [],
   "source": [
    "# Set the stage!\n",
    "# https://www.geeksforgeeks.org/how-to-draw-shapes-in-matplotlib-with-python/\n",
    "fig, ax = plt.subplots()\n",
    "ax.set_xlim(-.5, 3); ax.set_ylim(-.5, 3); ax.set_aspect('equal'); plt.grid(True)\n",
    "\n",
    "# Eventually, the final projection (a.k.a. casting a shadow)...\n",
    "# https://youtu.be/27vT-NWuw0M, https://youtu.be/JK-8XNIoAkI and https://youtu.be/cTyNpXB92bQ\n",
    "# which is a linear operation too and can be represented by a matrix as well:\n",
    "# https://wrfranklin.org/pmwiki/Main/HomogeneousCoords\n",
    "# The shadow of the final shape on the line Ax + By = 1\n",
    "a, b = 1 + σ(.5), 1 + σ(.5)\n",
    "P = array([[1, 0, 0],\n",
    "           [0, 1, 0],\n",
    "           [a, b, 0]])\n",
    "shdw = transform(P, sqwk); Obelix = h2e(shdw)\n",
    "\n",
    "# https://stackoverflow.com/questions/44526364/fill-matplotlib-polygon-with-a-gradient-between-vertices\n",
    "for (Gauls, ec, fc) in [(Vercingetorix, 'crimson', 'orange'),\n",
    "                        (Asterix, 'maroon', 'orangered'),\n",
    "                        (Obelix, 'brown', 'red')]:\n",
    "    ax.add_patch(Polygon(Gauls, ec = ec, fc = fc, alpha = 0.5))\n",
    "    ax.scatter(Gauls[:, 0], Gauls[:, 1], color = ec, s = 25)\n",
    "\n",
    "\n",
    "# And the ♪♫Moonlight shadows♫♪... https://youtu.be/ixExC-Zgyzc and https://youtu.be/e80qhyovOnA of the vertices.\n",
    "# Is that song about Évariste Galois https://en.wikipedia.org/wiki/%C3%89variste_Galois#Final_days?\n",
    "for v, w in zip(sqwk, shdw):\n",
    "    (start, y), (u, r) = v[:-1]/v[-1], w[:-1]/w[-1] # Hand-crafted homogeneous to Euclidean coordinates conversion\n",
    "    ax.plot((0, start), (0, y), c = 'tan', lw = .5, ls = 'dashed')\n",
    "    ax.plot((0, u), (0, r), c = 'goldenrod', lw = .5, ls = 'dotted')\n",
    "\n",
    "plt.title('3M.4.2D\\n(marvelous matrix multiplications for two dimensions)\\nrigid, linear, affine & projective transformations'); plt.show()"
   ]
  },
  {
   "cell_type": "markdown",
   "metadata": {},
   "source": [
    "### Exemplum\n",
    "Shifting the coordinates back is (\"*[Where Eagles Dare](https://upload.wikimedia.org/wikipedia/en/8/8e/Where_Eagles_Dare_poster.jpg)*\") equivalent to multiplying them by the inverse of the matrix that has shifted them forth...\n",
    "$$\n",
    "{\\color{red}\\Theta} = \\mathbf{T}^{-1}_{{\\color{red}{k}},{\\color{blue}{l}}} \\cdot\\mathbf{R}_{\\color{red}{\\alpha}} \\cdot\\mathbf{T}_{{\\color{red}{k}},{\\color{blue}{l}}}\n",
    "$$\n",
    "Note the *à rebours* order — and follow it ♪[♫If You Dare♫](https://youtu.be/5dvMRYuPnEI)♪!\n",
    "$$\n",
    "X' = {\\color{red}\\Theta}X\n",
    "$$\n",
    "There, there..."
   ]
  },
  {
   "cell_type": "code",
   "execution_count": null,
   "metadata": {},
   "outputs": [],
   "source": [
    "from numpy import linalg as la\n",
    "## How to rotate around an arbitrary point (x, y) in 2D (like e.g. an image around its center):\n",
    "sqwk = array([[0, 0, 1], [1, 0, 1], [1, 1, 1], [.25, .25, 1], [0, 1, 1]]) # the last edge (that closes the shape) can be omitted\n",
    "# Primo: shift towards center\n",
    "k, l = -.5, -.5\n",
    "T = I(3); _T = array([k, l])\n",
    "T[:2, 2] = _T.T # Transposition remain superfluous, but it's a good habit to maintain the proper dimensions\n",
    "# Secundo: rotate around the origin by a random angle (but limited for the sake of presentation clarity)\n",
    "α = (45 - σ(45))*π/180\n",
    "R = I(3); _R = array([[cos(α), -sin(α)],\n",
    "                      [sin(α),  cos(α)]])\n",
    "R[:2, :2] = _R\n",
    "# Tertio: and shift back\n",
    "# ... (the corresponding matrix is already here, isn't it?)\n",
    "\n",
    "img = transform(la.inv(T)@R@T, sqwk) # Caveat emptor: note the 'à rebours' order (\"Last will be first!\", Mt, 19:30 ;)!"
   ]
  },
  {
   "cell_type": "markdown",
   "metadata": {},
   "source": [
    "### Let's draw'em all!\n",
    "These [guys](https://pl.wikipedia.org/wiki/Kajko_i_Kokosz) (and [Gauls](https://en.wikipedia.org/wiki/Asterix)) are all from comics, anyway..."
   ]
  },
  {
   "cell_type": "code",
   "execution_count": null,
   "metadata": {},
   "outputs": [],
   "source": [
    "Kajko, Kokosz = h2e(sqwk), h2e(img)  #\n",
    "\n",
    "from matplotlib.patches import Arc\n",
    "from numpy import degrees, arctan2\n",
    "fig, ax = plt.subplots()\n",
    "ax.set_xlim(-.5, 1.5); ax.set_ylim(-.5, 1.5); ax.set_aspect('equal'); plt.grid(True)\n",
    "for (wój, ec, fc) in [(Kajko, 'xkcd:brick', 'xkcd:burnt sienna'),\n",
    "                      (Kokosz, 'xkcd:mahogany', 'xkcd:sienna')]:\n",
    "    ax.add_patch(Polygon(wój, ec = ec, fc = fc, alpha = 0.5, closed = True))\n",
    "    ax.scatter(wój[:, 0], wój[:, 1], color = ec, s = 25)\n",
    "\n",
    "#... and how they turn one into the other...\n",
    "center = -k, -l\n",
    "for start, end in zip(Kajko, Kokosz): # Co-piloted by Bing (no, not Crosby!)\n",
    "    # Calculate the center and radius\n",
    "    r = la.norm(start - center)\n",
    "    # Calculate the angles\n",
    "    γ, β = degrees(arctan2(start[1] - center[1], start[0] - center[0])), degrees(arctan2(end[1] - center[1], end[0] - center[0]))\n",
    "    ax.add_patch(Arc(center, 2*r, 2*r, angle = γ, theta2 = β - γ, ec = 'xkcd:reddish brown', lw = .5, ls = 'dotted'))\n",
    "\n",
    "α *= 180/π; plt.title(f'T⁻¹RT a.k.a. shift, rotate by e.g. {α = :2.0f}°, and \"un-shift\"'); plt.show()"
   ]
  },
  {
   "cell_type": "markdown",
   "metadata": {},
   "source": [
    "... and you shouldn't feel sorry for them (like some others do: ♪[♫Rysunkowa postać♫](https://youtu.be/zprXhDbVRvY)♪)"
   ]
  },
  {
   "cell_type": "markdown",
   "metadata": {},
   "source": [
    "——————————————————————————————————————\n",
    "### All right, in more than one swing...\n",
    "1. Multiplication of all these matrices — done once and (like ♪[♫...the justice♫](https://youtu.be/2dXB-YBSFsQ?t=1023)♪) for all!\n",
    "2. Actual multiplication (done for each point!!)"
   ]
  }
 ],
 "metadata": {
  "kernelspec": {
   "display_name": "Python 3",
   "language": "python",
   "name": "python3"
  },
  "language_info": {
   "codemirror_mode": {
    "name": "ipython",
    "version": 3
   },
   "file_extension": ".py",
   "mimetype": "text/x-python",
   "name": "python",
   "nbconvert_exporter": "python",
   "pygments_lexer": "ipython3",
   "version": "3.12.0"
  }
 },
 "nbformat": 4,
 "nbformat_minor": 2
}
