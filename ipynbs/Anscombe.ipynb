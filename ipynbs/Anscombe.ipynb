{
 "cells": [
  {
   "cell_type": "markdown",
   "metadata": {},
   "source": [
    "# Poisson distribution\n",
    "Recall the formula:\n",
    "$$\n",
    "P\\left(X = k|{\\color{red}{\\lambda}}\\right) = \\frac{e^{-{\\color{red}{\\lambda}}}{\\color{red}{\\lambda}}^k}{k!}\n",
    "$$ \n",
    "that calculates the probability of occurrence of $k=0,1,\\ldots$ events (photons arrivals, for instance) if the mean number of that events is ${\\color{red}{\\lambda}}$."
   ]
  },
  {
   "cell_type": "code",
   "execution_count": null,
   "metadata": {},
   "outputs": [],
   "source": [
    "from matplotlib.pyplot import hist, show, title, legend\n",
    "from numpy.random import poisson, randint\n",
    "from numpy import sqrt, ones\n",
    "\n",
    "## Mathemagically... # https://en.wikipedia.org/wiki/Anscombe_transform and https://en.wikipedia.org/wiki/Anscombe_transform#Inversion\n",
    "anscombe = lambda p: 2 * sqrt(p + .375)\n",
    "inverse = lambda x: (0.25) * x**2 - 1/8 + (0.25 * sqrt(3/2)) * x**(-1) - (11/8) * x**(-2) + (5/8) * sqrt(3/2) * x **(-3)\n",
    "\n",
    "freeman_tukey = lambda p: 2 * sqrt(p + 1) - sqrt(p)"
   ]
  },
  {
   "cell_type": "markdown",
   "metadata": {},
   "source": [
    "## Anscombe $\\circ$ Poisson $\\approx$ Gauss\n",
    "Recall now that for a Poissonian r.v. $X$ we have:\n",
    "$$E(X) = var(X) = {\\color{red}{\\lambda}}$$\n",
    "And that the Anscombe's transform \n",
    "$$ X \\rightarrow 2\\sqrt{X + \\frac{3}{8}}$$\n",
    "turns it into (approximately) Gaussian one with a **constant** (and **known**!) variance, $var(X) = {\\color{red}1}$.\n",
    "\n",
    "There is also an exact **unbiased** formula for the inverse Anscombe:\n",
    "$$\n",
    "X \\rightarrow \\frac{X^2 - \\frac{1}{2} + \\sqrt{\\frac{3}{2}}X^{-1} - \\frac{11}{2}X^{-2} + 5\\sqrt{\\frac{3}{8}}X^{-3}}{4}\n",
    "$$"
   ]
  },
  {
   "cell_type": "code",
   "execution_count": null,
   "metadata": {},
   "outputs": [],
   "source": [
    "λ, N = randint(0b10, 0x10), 0o1000\n",
    "Λ = λ * ones(N)\n",
    "\n",
    "P = poisson(Λ)\n",
    "G = anscombe(P)\n",
    "#FT = freeman_tukey(P) # Nice but not \"GCN-super nice\"...\n",
    "I = inverse(G)\n",
    "\n",
    "_ = (hist((P, G,\n",
    "           #FT,\n",
    "           I), range(λ << 0b10), density = True, width = .5, color = ['xkcd:green', 'xkcd:pine green',\n",
    "                                                                                # 'xkcd: green\" ''',\n",
    "                                                                                'xkcd:greyish'], alpha = .75),\n",
    "     title(f'Poissonian distribution and its Gaussian-like counterpart (with σ² ≈ 1)'),\n",
    "     legend((f'Poisson, λ = {λ}', f'Gauss, m ≈ 2√({λ}+3/8) ≈ {anscombe(λ):,.0f}',\n",
    "             #f'Freeman-Tukey, m = {freeman_tukey(λ):,.0f},'\n",
    "             f'... and back, λ = {λ}'), loc = 'upper right'))\n",
    "show()"
   ]
  },
  {
   "cell_type": "markdown",
   "metadata": {},
   "source": [
    "From the so called $3\\sigma$ rule we can easily infer that the histogram of our now-almost-Gaussian r.v. has about six-seven **visible** bars...  "
   ]
  }
 ],
 "metadata": {
  "kernelspec": {
   "display_name": "Python 3",
   "language": "python",
   "name": "python3"
  },
  "language_info": {
   "codemirror_mode": {
    "name": "ipython",
    "version": 3
   },
   "file_extension": ".py",
   "mimetype": "text/x-python",
   "name": "python",
   "nbconvert_exporter": "python",
   "pygments_lexer": "ipython3",
   "version": "3.12.0"
  }
 },
 "nbformat": 4,
 "nbformat_minor": 2
}
