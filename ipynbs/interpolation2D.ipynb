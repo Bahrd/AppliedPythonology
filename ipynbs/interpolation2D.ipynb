{
 "cells": [
  {
   "attachments": {},
   "cell_type": "markdown",
   "metadata": {},
   "source": [
    "♊︎ **2D** or not to **2D**? ♊︎"
   ]
  },
  {
   "cell_type": "code",
   "execution_count": null,
   "metadata": {},
   "outputs": [],
   "source": [
    "import sys, os; sys.path.insert(0, os.path.abspath('..'))\n",
    "\n",
    "from interpolation import Π, Λ, ϕ, ξ, interpolate as intrpl, eddie, RR\n",
    "from matplotlib.pyplot import plot, show\n",
    "from auxiliary import displayImages as DI\n",
    "from random import choice\n",
    "from numpy import zeros, array\n",
    "from sys import argv\n",
    "\n",
    "## Settings:\n",
    "#  A source image...\n",
    "img = eddie; M = len(img); N = M + 4 #<< 0b1\n",
    "# ... and some shortcuts.\n",
    "את, ΣΣ, nomina = lambda : choice([True, False]), intrpl, Π.__name__ # when the last is the first class...\n",
    "_ψ, Cu = eval(nomina), 'copper'"
   ]
  },
  {
   "attachments": {},
   "cell_type": "markdown",
   "metadata": {},
   "source": [
    "**Random** users' enjoyment:"
   ]
  },
  {
   "cell_type": "code",
   "execution_count": null,
   "metadata": {},
   "outputs": [],
   "source": [
    "# _ = choice([False, True]); ψ = lambda x: _ψ(x + RR(2) * RR(9)/12) if _ == True else _ψ(x)\n",
    "ψ = Π"
   ]
  },
  {
   "attachments": {},
   "cell_type": "markdown",
   "metadata": {},
   "source": [
    "**2D interpolation** - simple as that?! (yeap, but only when *M ≤ N*...)  \n",
    "**A loop-by-loop version...** ... and a more convoluted **(snaky, sneaky'n'snacky)** version:"
   ]
  },
  {
   "cell_type": "code",
   "execution_count": null,
   "metadata": {},
   "outputs": [],
   "source": [
    "if את():\n",
    "    out = zeros((N, N))\n",
    "    for m in range(M):\n",
    "        out[m, ...] = array(ΣΣ(img[m, ...], N, φ = ψ)).flat\n",
    "    DI((img, out), ('Original', f'{nomina}-scaled rows'), cmp = Cu, grid = False)\n",
    "\n",
    "    for n in range(N):\n",
    "        out[..., n] = array(ΣΣ(out[:M, n], N, φ = ψ)).flat\n",
    "    DI((img, out), ('Original', f'{nomina}-scaled rows & columns'), cmp = Cu)\n",
    "else:\n",
    "    out = array([ΣΣ(img[m, ...], N, φ = ψ) for m in range(M)]).reshape(M, N)\n",
    "    DI((img, out), ('Original', f'{nomina}-scaled rows II'), cmp = Cu, grid = False)\n",
    "\n",
    "    out = array([ΣΣ(out[..., n], N, φ = ψ) for n in range(N)]).reshape(N, N).T\n",
    "    DI((img, out), ('Original', f'{nomina}-scaled rows & columns II'), cmp = Cu)"
   ]
  },
  {
   "attachments": {},
   "cell_type": "markdown",
   "metadata": {},
   "source": [
    "A pretty scary stuff...\n",
    "*(Or just yet another aliasing-related effect ;)*\n",
    "\n",
    "***[♪♫ If you dare ♫♪](https://www.youtube.com/watch?v=5dvMRYuPnEI)***"
   ]
  },
  {
   "cell_type": "code",
   "execution_count": null,
   "metadata": {},
   "outputs": [],
   "source": [
    "if 0b1:\n",
    "    # Troughs and crests\n",
    "    _ = plot(out[N >> 0b1, ...], 'ro-'), show()\n",
    "    out[out < 0.0] = 1.0; out[out > 1.0] = 0.0\n",
    "    DI((img, out), ('Original', f'{nomina}-scaled'), cmp = Cu)"
   ]
  }
 ],
 "metadata": {
  "kernelspec": {
   "display_name": "Python 3",
   "language": "python",
   "name": "python3"
  },
  "language_info": {
   "codemirror_mode": {
    "name": "ipython",
    "version": 3
   },
   "file_extension": ".py",
   "mimetype": "text/x-python",
   "name": "python",
   "nbconvert_exporter": "python",
   "pygments_lexer": "ipython3",
   "version": "3.12.0"
  },
  "orig_nbformat": 4
 },
 "nbformat": 4,
 "nbformat_minor": 2
}
