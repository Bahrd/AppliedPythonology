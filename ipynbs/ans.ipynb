{
 "cells": [
  {
   "cell_type": "code",
   "execution_count": null,
   "metadata": {},
   "outputs": [],
   "source": [
    "# Fix for Visual Studio Code\n",
    "from IPython.core.display import HTML\n",
    "HTML(r\"\"\"\n",
    "<style>\n",
    "    * {\n",
    "        color: yellow;\n",
    "        #font-family: ‘Cascadia Code PL’;#,‘Courier New’, Courier, monospace;\n",
    "        font-family: ‘Courier New’, Courier, monospace;\n",
    "        font-size: 16px !important;\n",
    "        line-height: 1.1 !important;\n",
    "    }\n",
    "    .output-plaintext, .output-stream, .output {\n",
    "        font-family: ‘Courier New’, Courier, monospace; # Any monospaced font should work\n",
    "        line-height: 1.1 !important;\n",
    "        font-size: 18px !important;\n",
    "    }\n",
    "</style>\n",
    "\"\"\")"
   ]
  },
  {
   "cell_type": "markdown",
   "metadata": {},
   "source": [
    "J. Duda 2007 ANS/ABC (see: http://mattmahoney.net/dc/dce.html#Section_33)\n",
    "\n",
    "ABC - a binary code"
   ]
  },
  {
   "cell_type": "code",
   "execution_count": null,
   "metadata": {},
   "outputs": [],
   "source": [
    "from math import floor, ceil, log2 as lg2, log10 as lg10\n",
    "from random import randint\n",
    "\n",
    "# A probability p = P(X = '1') is set quite arbitrarily\n",
    "L = 0x10; p = 1/L\n",
    "# The resulting entropy is just (an) average 'H = -∑ᵢpᵢ⋅lg₂pᵢ'\n",
    "H = -(1 - p) * lg2(1 - p) - p * lg2(p) #[bit/symbol]\n",
    "\n",
    "# A 'random' message... (with a fair chance of having a single '1' somewhere...)\n",
    "msg, ll = list(L * '0'), randint(0, L)\n",
    "if ll < L: msg[ll] = '1'\n",
    "msg = ''.join(msg)\n",
    "print(f\"Message: '{msg}'\")"
   ]
  },
  {
   "cell_type": "markdown",
   "metadata": {},
   "source": [
    "Encoding, that is, turning a string into a (natural) number (note it is not a **block code**!)"
   ]
  },
  {
   "cell_type": "code",
   "execution_count": null,
   "metadata": {},
   "outputs": [],
   "source": [
    "enc = 0\n",
    "for n in msg[:: -1]:\n",
    "    enc = ceil((enc + 1)/(1 - p)) - 1 if n == '0' else floor(enc/p)\n",
    "    print(f\"'{n}' → {bin(enc):{L}}\")        # Enlightening I\n",
    "print(f'\\nCode: {bin(enc)} ({enc})')"
   ]
  },
  {
   "cell_type": "markdown",
   "metadata": {},
   "source": [
    "Decoding, that is, turning back a string from a number... "
   ]
  },
  {
   "cell_type": "code",
   "execution_count": null,
   "metadata": {},
   "outputs": [],
   "source": [
    "\n",
    "code, dec = enc, ''\n",
    "l = ceil(lg2(enc)) + 0b10\n",
    "for _ in msg:\n",
    "    print(f'{bin(enc):{l}}', end = ' → ')   # Enlightening II.I\n",
    "    z = ceil((enc + 1) * p) - ceil(enc * p)\n",
    "    dec += str(z)\n",
    "    enc = enc - ceil(enc * p) if z == 0 else ceil(enc * p)\n",
    "    print(f\"'{dec}'\")                       # Enlightening II.II"
   ]
  },
  {
   "cell_type": "markdown",
   "metadata": {},
   "source": [
    "Just a summary..."
   ]
  },
  {
   "cell_type": "code",
   "execution_count": null,
   "metadata": {},
   "outputs": [],
   "source": [
    "ly, lc = len(msg), floor(lg2(code) + 1)\n",
    "print('—' * 0o100, f'\\nP(X = \\'1\\') = 1/{L} → Entropy = {H:.2f} [bit/symbol]')\n",
    "print(f\"Message: '{msg}'\\nEncoded:  {bin(code)}\")\n",
    "print(f\"Compression: {ly} → {lc} ({lc/ly:,.0%})\\nDecoded: '{dec}'\")"
   ]
  },
  {
   "cell_type": "markdown",
   "metadata": {},
   "source": [
    "### Problem(?)\n",
    "Is it possible to **always** set a probability of $1$'s so that the code is equal to the message?"
   ]
  }
 ],
 "metadata": {
  "kernelspec": {
   "display_name": "Python 3",
   "language": "python",
   "name": "python3"
  },
  "language_info": {
   "codemirror_mode": {
    "name": "ipython",
    "version": 3
   },
   "file_extension": ".py",
   "mimetype": "text/x-python",
   "name": "python",
   "nbconvert_exporter": "python",
   "pygments_lexer": "ipython3",
   "version": "3.12.0"
  }
 },
 "nbformat": 4,
 "nbformat_minor": 2
}
