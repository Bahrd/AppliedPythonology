{
 "cells": [
  {
   "cell_type": "markdown",
   "metadata": {},
   "source": [
    "# It ain't that easy to find the area of the circle on a [screen of pixels](https://mathworld.wolfram.com/GausssCircleProblem.html)..."
   ]
  },
  {
   "cell_type": "code",
   "execution_count": null,
   "metadata": {},
   "outputs": [],
   "source": [
    "from matplotlib.pyplot import plot, show\n",
    "from math import floor, sqrt, pi as π\n",
    "from numpy import add"
   ]
  },
  {
   "cell_type": "markdown",
   "metadata": {},
   "source": [
    "$$\n",
    "   GCA\\left(r\\right) = 1 + 4\\left\\lfloor r\\right\\rfloor\n",
    "                         + 4\\sum_{i = 1}^{\\left\\lfloor r\\right\\rfloor}\n",
    "                           \\left\\lfloor \\sqrt{r^2 - i^2} \\right\\rfloor\n",
    "$$"
   ]
  },
  {
   "cell_type": "code",
   "execution_count": null,
   "metadata": {},
   "outputs": [],
   "source": [
    "def Gauss_circle_area(r: float):\n",
    "    r_floor = int(floor(r))\n",
    "    rs = [floor(sqrt(r*r - i*i)) for i in range(1, r_floor)]\n",
    "    area = 1 + 4*r_floor + 4*add.reduce(rs)\n",
    "    return area"
   ]
  },
  {
   "cell_type": "markdown",
   "metadata": {},
   "source": [
    "$$\n",
    "   GCA_{II}\\left(r\\right) = 1 + 4\\sum_{i = 1}^{r^2} (-1)^{i-1}\\left\\lfloor \\frac{r^2}{2i - 1} \\right\\rfloor\n",
    "$$\n",
    "*Caveat emptor*: the complexity is **skyrocketing** now! $O\\left(r^2\\right)$ "
   ]
  },
  {
   "cell_type": "code",
   "execution_count": null,
   "metadata": {},
   "outputs": [],
   "source": [
    "def Gauss_circle_area_II(r: float):\n",
    "    rs = [(1 if i%2 == 1 else -1)*floor(r*r/(2*i - 1)) for i in range(1, int(r*r))]\n",
    "    area = 1 + 4*add.reduce(rs)\n",
    "    return area\n",
    "\n",
    "for r in (10, 13):\n",
    "    print(f'{r = }: {π*r**2 = :.2f} sq. whatevers vs. {Gauss_circle_area(r) = } vs. {Gauss_circle_area_II(r) = } sq. pixels')\n",
    "_ = plot([Gauss_circle_area(r) - π*r**2 for r in range(0x400)], 'ko', ls='-', ms = 0o4, markerfacecolor = 'r' ), show()\n"
   ]
  },
  {
   "cell_type": "markdown",
   "metadata": {},
   "source": [
    "Good luck, Copilot, with implementation of that stuff:\n",
    "$$\n",
    "   GCA_{III}\\left(r\\right) = 1 + 4\\sum_{i = 0}^{\\infty} \\left( \\left\\lfloor \\frac{r^2}{4i + 1} \\right\\rfloor - \\left\\lfloor \\frac{r^2}{4i + 3} \\right\\rfloor \\right)\n",
    "$$\n",
    "\n",
    "... and guess what? Copilot just did this!"
   ]
  },
  {
   "cell_type": "code",
   "execution_count": null,
   "metadata": {},
   "outputs": [],
   "source": [
    "def Gauss_circle_area_III(r: float, max_iter: int = 1000):\n",
    "   rs = [floor(r*r/(4*i + 1)) - floor(r*r/(4*i + 3)) for i in range(max_iter)]\n",
    "   area = 1 + 4*add.reduce(rs)\n",
    "   return area\n",
    "\n",
    "# Example usage\n",
    "for r in (10, 13):\n",
    "   print(f'{r = }: {π*r**2 = :.2f} sq. whatevers vs. {Gauss_circle_area(r) = } vs. {Gauss_circle_area_II(r) = } vs. {Gauss_circle_area_III(r) = } sq. pixels')\n",
    "_ = plot([Gauss_circle_area_III(r) - π*r**2 for r in range(0x400)], 'ko', ls='-', ms = 0o4, markerfacecolor = 'r' ), show()"
   ]
  }
 ],
 "metadata": {
  "kernelspec": {
   "display_name": "Python 3",
   "language": "python",
   "name": "python3"
  },
  "language_info": {
   "codemirror_mode": {
    "name": "ipython",
    "version": 3
   },
   "file_extension": ".py",
   "mimetype": "text/x-python",
   "name": "python",
   "nbconvert_exporter": "python",
   "pygments_lexer": "ipython3",
   "version": "3.12.0"
  }
 },
 "nbformat": 4,
 "nbformat_minor": 2
}
