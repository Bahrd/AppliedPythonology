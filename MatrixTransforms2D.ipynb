{
 "cells": [
  {
   "cell_type": "markdown",
   "metadata": {},
   "source": [
    "# How to transform shapes in 2D...\n",
    "## ... with the little help of linear algebra!"
   ]
  },
  {
   "cell_type": "code",
   "execution_count": null,
   "metadata": {},
   "outputs": [],
   "source": [
    "from numpy import array, identity as I\n",
    "import matplotlib.pyplot as plt\n",
    "from matplotlib.patches import Polygon\n",
    "from math import pi as π, cos, sin\n",
    "from random import random\n",
    "\n",
    "# A bit of randomness...\n",
    "σ = lambda x = .5: x*(random() - 0.5)\n",
    "\n",
    "# Transformation of the polygon's vertices\n",
    "transform = lambda P, points: array([P @ p for p in points])\n",
    "# Homogeneous to Euclidean coordinates conversion\n",
    "h2e = lambda X: array([(x/x[-1])[:-1] for x in X])"
   ]
  },
  {
   "cell_type": "markdown",
   "metadata": {},
   "source": [
    "### A square (a kinky one...) \n",
    "\n",
    "Various $3\\times 3$ matrices\n",
    "$$\n",
    "\\mathbf{I}=\n",
    "\\begin{bmatrix}\n",
    "1 & 0 & 0\\\\\n",
    "0 & 1 & 0\\\\\n",
    "0 & 0 & 1\n",
    "\\end{bmatrix}\n",
    "$$\n",
    "transform vectors $\\left[x, y, 1\\right]^T$ of 2D point in homogenous coordinates (this matrix does nothing)."
   ]
  },
  {
   "cell_type": "code",
   "execution_count": null,
   "metadata": {},
   "outputs": [],
   "source": [
    "# The original shape at the origin\n",
    "sqwk = array([[0, 0, 1], [1, 0, 1], [1, 1, 1], [.25, .25, 1], [0, 1, 1]])\n",
    "\n",
    "# Identity transformation (a.k.a. \"do nothing but with great style!\")\n",
    "sqwk = transform(I(3), sqwk)\n",
    "verticesI = h2e(sqwk)"
   ]
  },
  {
   "cell_type": "markdown",
   "metadata": {},
   "source": [
    "## Translation/shift\n",
    "\n",
    "Thanks to the homogeneous coordinates, translation by $\\left({\\color{red}{K}}, {\\color{blue}{L}}\\right)$ is a linear operation!\n",
    "$$\n",
    "\\mathbf{T}_{K, L}=\n",
    "\\begin{bmatrix}\n",
    "1 & 0 & {\\color{red}{K}}\\\\\n",
    "0 & 1 & {\\color{blue}{L}}\\\\\n",
    "0 & 0 & 1\n",
    "\\end{bmatrix}\n",
    "$$"
   ]
  },
  {
   "cell_type": "code",
   "execution_count": null,
   "metadata": {},
   "outputs": [],
   "source": [
    "# Our square after translation by K and L...\n",
    "K, L = 1.5 + σ(), 1 + σ(2)\n",
    "T = I(3); _T = array([K, L])\n",
    "T[:2, 2] = _T.T # Transposition seems superfluous here, but it's a good habit"
   ]
  },
  {
   "cell_type": "markdown",
   "metadata": {},
   "source": [
    "## Rotation\n",
    "\n",
    "Here is a formula of a rotation matrix (by an angle ${\\color{red}{\\alpha}}$)\n",
    "$$\n",
    "\\mathbf{R}_{\\alpha}=\n",
    "\\begin{bmatrix}\n",
    "\\cos{\\color{red}{\\alpha}} & -\\sin{\\color{red}{\\alpha}} & 0\\\\\n",
    "\\sin{\\color{red}{\\alpha}} & \\cos{\\color{red}{\\alpha}} & 0\\\\\n",
    "0 & 0 & 1\n",
    "\\end{bmatrix}\n",
    "$$\n",
    "Observe that $\\det(R) = \\cos^2{\\color{red}{\\alpha}} + \\sin^2{\\color{red}{\\alpha}} = 1$:"
   ]
  },
  {
   "cell_type": "code",
   "execution_count": null,
   "metadata": {},
   "outputs": [],
   "source": [
    "# ... and after rotation by α degrees...\n",
    "α = σ(30)*π/180\n",
    "R = I(3); _R = array([[cos(α), -sin(α)],\n",
    "                      [sin(α),  cos(α)]])\n",
    "R[:2, :2] = _R"
   ]
  },
  {
   "cell_type": "markdown",
   "metadata": {},
   "source": [
    "## Scaling, squeezing, stretching & shearing – [Procrustes](https://en.wikipedia.org/wiki/Procrustes) would've loved it!\n",
    "\n",
    "These matrices look sssstraighforward:\n",
    "$$\n",
    "\\mathbf{S}=\n",
    "\\begin{bmatrix}\n",
    "{\\color{red}{s}} & 0 & 0\\\\\n",
    "0 & {\\color{red}{s}} & 0\\\\\n",
    "0 & 0 & 1\n",
    "\\end{bmatrix},\\quad\n",
    "\\mathbf{S1}=\n",
    "\\begin{bmatrix}\n",
    "{\\color{red}{k}} & 0 & 0\\\\\n",
    "0 & {\\color{red}{\\kappa}} & 0\\\\\n",
    "0 & 0 & 1\n",
    "\\end{bmatrix},\\quad\n",
    "\\mathbf{S2}=\n",
    "\\begin{bmatrix}\n",
    "{\\color{red}{\\kappa}} & 0           & 0\\\\\n",
    "0      & {\\color{red}{\\kappa^{-1}}} & 0\\\\\n",
    "0 & 0 & 1\n",
    "\\end{bmatrix},\\quad\n",
    "\\mathbf{S2}=\n",
    "\\begin{bmatrix}\n",
    "1      & {\\color{red}{\\kappa}} & 0\\\\\n",
    "{\\color{red}{\\kappa}} & 1      & 0\\\\\n",
    "0 & 0 & 1\n",
    "\\end{bmatrix}\n",
    "$$"
   ]
  },
  {
   "cell_type": "code",
   "execution_count": null,
   "metadata": {},
   "outputs": [],
   "source": [
    "# ... and scaling...\n",
    "s = σ(2)\n",
    "S = I(3); _S = array([[s, 0],\n",
    "                      [0, s]])\n",
    "S[:2, :2] = _S\n",
    "\n",
    "## And...\n",
    "#  See https://en.wikipedia.org/wiki/Transformation_matrix#/media/File:2D_affine_transformation_matrix.svg\n",
    "#  and https://en.wikipedia.org/wiki/Transformation_matrix#/media/File:Perspective_transformation_matrix_2D.svg\n",
    "\n",
    "# ... stretching:\n",
    "k, κ = 2 + σ(), 2 + σ()\n",
    "S1 = array([[k, 0, 0],\n",
    "            [0, κ, 0],\n",
    "            [0, 0, 1]])\n",
    "# ... squeezing:\n",
    "S2 = array([[1/κ, 0, 0],\n",
    "            [0,   κ, 0],\n",
    "            [0,   0, 1]])\n",
    "# and shearing:\n",
    "S3 = array([[1, k, 0],\n",
    "            [κ, 1, 0],\n",
    "            [0, 0, 1]])"
   ]
  },
  {
   "cell_type": "markdown",
   "metadata": {},
   "source": [
    "## Reflections (ThnX, [Hauseholder](https://en.wikipedia.org/wiki/Alston_Scott_Householder)!)\n",
    "\n",
    "This form is not exactly obvious that this matrix implements reflection about the line from origin $(0, 0)$ through $({\\color{red}{l_x}}, {\\color{red}{l_y}})$. It will be clear, however, once we derive a projection formula\n",
    "$$\n",
    "\\mathbf{S}=\n",
    "\\begin{bmatrix}\n",
    "{\\color{red}{l_x^2 - l_y^2}} & {\\color{red}{2l_xl_y}} & 0\\\\\n",
    "{\\color{red}{2l_xl_y}} & {\\color{red}{l_x^2 - l_y^2}} & 0\\\\\n",
    "0 & 0 & 1\n",
    "\\end{bmatrix}"
   ]
  },
  {
   "cell_type": "code",
   "execution_count": null,
   "metadata": {},
   "outputs": [],
   "source": [
    "\n",
    "# Reflecting:\n",
    "lx, ly = .5 + σ(), .5 + σ()\n",
    "M = I(3)\n",
    "_M = array([[lx**2 - ly**2,     2*lx*ly  ],\n",
    "            [    2*lx*ly  , ly**2 - lx**2]])\n",
    "_M = _M/(lx**2 + ly**2)\n",
    "M[:2, :2] = _M"
   ]
  },
  {
   "cell_type": "markdown",
   "metadata": {},
   "source": [
    "## All in a single step!\n",
    "\n",
    "Regardless how many transformation we need to perform, we can compose them and turn into a single matrix\n",
    "$$\n",
    "X' = {\\color{red}{\\Theta}} X,\\quad {\\color{red}{\\Theta}} = MTSRS_3\n",
    "$$"
   ]
  },
  {
   "cell_type": "code",
   "execution_count": null,
   "metadata": {},
   "outputs": [],
   "source": [
    "# Feel free to further squeeze, stretch, shear the shape (and mix the order too)...\n",
    "sqwk = transform(M@T@S@R@S3, sqwk)\n",
    "verticesII = h2e(sqwk)\n"
   ]
  },
  {
   "cell_type": "markdown",
   "metadata": {},
   "source": [
    "# Projections\n",
    "Perhaps surprisingly, given a form of Hausholder's matrix, that perspective projection matrix is fairly simple. \n",
    "$$\n",
    "\\mathbf{P}=\n",
    "\\begin{bmatrix}\n",
    "1 & 0 & 0\\\\\n",
    "0 & 1 & 0\\\\\n",
    "{\\color{red}{A}} & {\\color{red}{B}} & 0\n",
    "\\end{bmatrix}\n",
    "$$\n",
    "Here we project a homogeneous points onto a line such that ${\\color{red}{A}}x + {\\color{red}{B}}y = 1$ (with a center at origin $(0, 0)$):"
   ]
  },
  {
   "cell_type": "code",
   "execution_count": null,
   "metadata": {},
   "outputs": [],
   "source": [
    "# Set the stage!\n",
    "# https://www.geeksforgeeks.org/how-to-draw-shapes-in-matplotlib-with-python/\n",
    "fig, ax = plt.subplots()\n",
    "ax.set_xlim(-1, 4); ax.set_ylim(-1, 4); ax.set_aspect('equal'); plt.grid(True)\n",
    "\n",
    "# Eventually, the final projection (a.k.a. casting a shadow)...\n",
    "# https://youtu.be/27vT-NWuw0M, https://youtu.be/JK-8XNIoAkI and https://youtu.be/cTyNpXB92bQ\n",
    "# which is a linear operation too and can be represented by a matrix as well:\n",
    "# https://wrfranklin.org/pmwiki/Main/HomogeneousCoords\n",
    "# The shadow of the final shape on the line Ax + By = 1\n",
    "A, B = 1 + σ(), 1 + σ()\n",
    "P = array([[1, 0, 0],\n",
    "           [0, 1, 0],\n",
    "           [A, B, 0]])\n",
    "shdw = transform(P, sqwk); verticesIII = h2e(shdw)\n",
    "\n",
    "# https://stackoverflow.com/questions/44526364/fill-matplotlib-polygon-with-a-gradient-between-vertices\n",
    "for (vertices, edges, fills) in [(verticesI, 'green', 'lightgreen'),\n",
    "                                 (verticesII, 'blue', 'lightblue'),\n",
    "                                 (verticesIII, 'red', 'tomato')]:\n",
    "    polygon = Polygon(vertices, ec = edges, fc = fills, alpha = 0.5)\n",
    "    ax.scatter(vertices[:, 0], vertices[:, 1], color = edges, s = 25)\n",
    "    ax.add_patch(polygon)\n",
    "\n",
    "\n",
    "# And the ♪♫Moonlight shadows♫♪... https://youtu.be/ixExC-Zgyzc and https://youtu.be/e80qhyovOnA of the vertices.\n",
    "# Is that song about Évariste Galois https://en.wikipedia.org/wiki/%C3%89variste_Galois#Final_days?\n",
    "for v in sqwk:\n",
    "    # Homogeneous to Euclidean coordinates\n",
    "    x, y = v[:-1]/v[-1]\n",
    "    ax.plot((0, x), (0, y), c = 'lightgray', lw = .5, ls = 'dashed')\n",
    "for v in shdw:\n",
    "    # Homogeneous to Euclidean coordinates\n",
    "    x, y = v[:-1]/v[-1]\n",
    "    ax.plot((0, x), (0, y), c = 'gray', lw = .5, ls = 'dotted')\n",
    "\n",
    "plt.title('Matrix transforms in 2D: rigid, linear, affine & projective'); plt.show()"
   ]
  }
 ],
 "metadata": {
  "kernelspec": {
   "display_name": "Python 3",
   "language": "python",
   "name": "python3"
  },
  "language_info": {
   "codemirror_mode": {
    "name": "ipython",
    "version": 3
   },
   "file_extension": ".py",
   "mimetype": "text/x-python",
   "name": "python",
   "nbconvert_exporter": "python",
   "pygments_lexer": "ipython3",
   "version": "3.12.0"
  }
 },
 "nbformat": 4,
 "nbformat_minor": 2
}
