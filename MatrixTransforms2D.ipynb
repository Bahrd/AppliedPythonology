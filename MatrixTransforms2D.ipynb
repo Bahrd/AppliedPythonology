{
 "cells": [
  {
   "cell_type": "markdown",
   "metadata": {},
   "source": [
    "# How to transform shapes in 2D...\n",
    "## ... with the little help of linear algebra!"
   ]
  },
  {
   "cell_type": "code",
   "execution_count": null,
   "metadata": {},
   "outputs": [],
   "source": [
    "from numpy import array, identity as I\n",
    "import matplotlib.pyplot as plt\n",
    "from matplotlib.patches import Polygon\n",
    "from math import pi as π, cos, sin\n",
    "from random import random\n",
    "\n",
    "# A bit of randomness...\n",
    "σ = lambda x = .5: x*(random() - 0.5)\n",
    "\n",
    "# Transformation of the polygon's vertices\n",
    "transform = lambda P, points: array([P @ p for p in points])\n",
    "# Homogeneous to Euclidean coordinates conversion\n",
    "h2e = lambda X: array([(x/x[-1])[:-1] for x in X])"
   ]
  },
  {
   "cell_type": "markdown",
   "metadata": {},
   "source": [
    "### A square (a kinky one...) \n",
    "\n",
    "Various $3\\times 3$ matrices\n",
    "$$\n",
    "\\mathbf{I}=\n",
    "\\begin{bmatrix}\n",
    "1 & 0 & 0\\\\\n",
    "0 & 1 & 0\\\\\n",
    "0 & 0 & 1\n",
    "\\end{bmatrix}\n",
    "$$\n",
    "transform vectors $\\left[x, y, 1\\right]^T$ of 2D point in homogenous coordinates (this matrix does nothing)."
   ]
  },
  {
   "cell_type": "code",
   "execution_count": null,
   "metadata": {},
   "outputs": [],
   "source": [
    "# The original shape at the origin\n",
    "sqwk = array([[0, 0, 1], [1, 0, 1], [1, 1, 1], [.25, .25, 1], [0, 1, 1]])\n",
    "\n",
    "# Identity transformation (a.k.a. \"do nothing but with great style!\")\n",
    "sqwk = transform(I(3), sqwk)\n",
    "verticesI = h2e(sqwk)"
   ]
  },
  {
   "cell_type": "markdown",
   "metadata": {},
   "source": [
    "## Translation/shift\n",
    "\n",
    "Thanks to the homogeneous coordinates, translation by $\\left({\\color{red}{K}}, {\\color{blue}{L}}\\right)$ is a linear operation!\n",
    "$$\n",
    "\\mathbf{T}_{{\\color{red}{K}}, {\\color{blue}{L}}}=\n",
    "\\begin{bmatrix}\n",
    "1 & 0 & {\\color{red}{K}}\\\\\n",
    "0 & 1 & {\\color{blue}{L}}\\\\\n",
    "0 & 0 & 1\n",
    "\\end{bmatrix}\n",
    "$$"
   ]
  },
  {
   "cell_type": "code",
   "execution_count": null,
   "metadata": {},
   "outputs": [],
   "source": [
    "# Our square after translation by K and L...\n",
    "K, L = 1.5 + σ(), 1 + σ(2)\n",
    "T = I(3); _T = array([K, L])\n",
    "T[:2, 2] = _T.T # Transposition seems superfluous here, but it's a good habit"
   ]
  },
  {
   "cell_type": "markdown",
   "metadata": {},
   "source": [
    "## Rotation\n",
    "\n",
    "Here is a formula of a rotation matrix (by an angle ${\\color{red}{\\alpha}}$)\n",
    "$$\n",
    "\\mathbf{R}_{\\color{red}{\\alpha}}=\n",
    "\\begin{bmatrix}\n",
    "\\cos{\\color{red}{\\alpha}} & -\\sin{\\color{red}{\\alpha}} & 0\\\\\n",
    "\\sin{\\color{red}{\\alpha}} & \\cos{\\color{red}{\\alpha}} & 0\\\\\n",
    "0 & 0 & 1\n",
    "\\end{bmatrix}\n",
    "$$\n",
    "Observe that $\\det(R) = \\cos^2{\\color{red}{\\alpha}} + \\sin^2{\\color{red}{\\alpha}} = 1$:"
   ]
  },
  {
   "cell_type": "code",
   "execution_count": null,
   "metadata": {},
   "outputs": [],
   "source": [
    "# ... and after rotation by α degrees...\n",
    "α = σ(30)*π/180\n",
    "R = I(3); _R = array([[cos(α), -sin(α)],\n",
    "                      [sin(α),  cos(α)]])\n",
    "R[:2, :2] = _R"
   ]
  },
  {
   "cell_type": "markdown",
   "metadata": {},
   "source": [
    "## Squeezing, stretching, shearing & scaling section – [Procrustes](https://en.wikipedia.org/wiki/Procrustes) would've loved it!\n",
    "\n",
    "These matrices look s's''s'''straighforward:\n",
    "$$\n",
    "\\mathbf{S}'_{{{\\color{red}{k}},{\\color{blue}{\\kappa}}}}=\n",
    "\\begin{bmatrix}\n",
    "{\\color{red}{k}} & 0 & 0\\\\\n",
    "0 & {\\color{blue}{\\kappa}} & 0\\\\\n",
    "0 & 0 & 1\n",
    "\\end{bmatrix},\\quad\n",
    "\\mathbf{S''_{\\color{blue}{\\kappa}}}=\n",
    "\\begin{bmatrix}\n",
    "{\\color{blue}{\\kappa}} & 0           & 0\\\\\n",
    "0      & {\\color{blue}{\\kappa}}^{-1} & 0\\\\\n",
    "0 & 0 & 1\n",
    "\\end{bmatrix},\\quad\n",
    "\\mathbf{S}'''_{{{\\color{red}{k}},{\\color{blue}{\\kappa}}}}=\n",
    "\\begin{bmatrix}\n",
    "1      & {\\color{red}{k}} & 0\\\\\n",
    "{\\color{blue}{\\kappa}} & 1      & 0\\\\\n",
    "0 & 0 & 1\n",
    "\\end{bmatrix},\\quad\n",
    "\\mathbf{S}_{{\\color{red}s}}=\n",
    "\\begin{bmatrix}\n",
    "{\\color{red}{s}} & 0 & 0\\\\\n",
    "0 & {\\color{red}{s}} & 0\\\\\n",
    "0 & 0 & 1\n",
    "\\end{bmatrix}\n",
    "$$"
   ]
  },
  {
   "cell_type": "code",
   "execution_count": null,
   "metadata": {},
   "outputs": [],
   "source": [
    "#  See https://en.wikipedia.org/wiki/Transformation_matrix#/media/File:2D_affine_transformation_matrix.svg\n",
    "#  and https://en.wikipedia.org/wiki/Transformation_matrix#/media/File:Perspective_transformation_matrix_2D.svg\n",
    "\n",
    "# stretching\n",
    "k, κ = 2 + σ(), 2 + σ()\n",
    "S1 = array([[k, 0, 0],\n",
    "            [0, κ, 0],\n",
    "            [0, 0, 1]])\n",
    "# ... squeezing\n",
    "S2 = array([[1/κ, 0, 0],\n",
    "            [0,   κ, 0],\n",
    "            [0,   0, 1]])\n",
    "# and shearing\n",
    "S3 = array([[1, k, 0],\n",
    "            [κ, 1, 0],\n",
    "            [0, 0, 1]])\n",
    "# ... and just scaling, too\n",
    "s = σ(2)\n",
    "S = I(3); _S = array([[s, 0],\n",
    "                      [0, s]])\n",
    "S[:2, :2] = _S"
   ]
  },
  {
   "cell_type": "markdown",
   "metadata": {},
   "source": [
    "## Reflections (ThnX, [Hauseholder](https://en.wikipedia.org/wiki/Alston_Scott_Householder)!)\n",
    "\n",
    "It is not exactly obvious that this matrix implements reflection about the line from origin $(0, 0)$ through $({\\color{red}{l_x}}, {\\color{blue}{l_y}})$. \n",
    "It will be clear, however, once we derive a projection formula\n",
    "$$\n",
    "\\mathbf{M}_{{\\color{red}{l_x}},{\\color{blue}{l_y}}}=\\frac{1}{{\\color{red}{l_x}}^2 + {\\color{blue}{l_y}}^2}\n",
    "\\begin{bmatrix}\n",
    "{\\color{red}{l_x}}^2 - {\\color{blue}{{l_y}}}^2 & 2{\\color{red}{l_x}}\\color{blue}{{l_y}} & 0\\\\\n",
    "{2\\color{red}{l_x}}\\color{blue}{{l_y}} & {\\color{red}{l_x}}^2 - {\\color{blue}{{l_y}}}^2 & 0\\\\\n",
    "0 & 0 & 1\n",
    "\\end{bmatrix}\n",
    "$$"
   ]
  },
  {
   "cell_type": "code",
   "execution_count": null,
   "metadata": {},
   "outputs": [],
   "source": [
    "\n",
    "# Reflecting:\n",
    "lx, ly = .5 + σ(), .5 + σ()\n",
    "M = I(3)\n",
    "_M = array([[lx**2 - ly**2,     2*lx*ly  ],\n",
    "            [    2*lx*ly  , ly**2 - lx**2]])\n",
    "_M = _M/(lx**2 + ly**2)\n",
    "M[:2, :2] = _M"
   ]
  },
  {
   "cell_type": "markdown",
   "metadata": {},
   "source": [
    "## All in a single step!\n",
    "\n",
    "Regardless of how many transformation we need to apply, we can always multiply them first to get a single transformation matrix\n",
    "$$\n",
    "X' = {\\color{red}{\\Theta}} X,\\quad {\\color{red}{\\Theta}} = \\mathbf{M}_{{\\color{red}{l_x}},{\\color{blue}{l_y}}}\\cdot\\mathbf{T}_{{\\color{red}{K}},{\\color{blue}{L}}} \\cdot\\mathbf{S}_{{\\color{red}s}}\\cdot\\mathbf{R}_{\\color{red}{\\alpha}}\\cdot\\mathbf{S}'''_{{{\\color{red}{k}},{\\color{blue}{\\kappa}}}}\n",
    "$$\n",
    "Remember, however, about the order: matrix multiplication is not commutative (in general)."
   ]
  },
  {
   "cell_type": "code",
   "execution_count": null,
   "metadata": {},
   "outputs": [],
   "source": []
  },
  {
   "cell_type": "code",
   "execution_count": null,
   "metadata": {},
   "outputs": [],
   "source": [
    "# Feel free to further squeeze, stretch, shear the shape (and mix the order too)...\n",
    "Θ = M@T@S@R@S3  # M@T@S@R@S3 != S3@R@S@T@M, for instance!\n",
    "sqwk = transform(Θ, sqwk)\n",
    "verticesII = h2e(sqwk)\n"
   ]
  },
  {
   "cell_type": "markdown",
   "metadata": {},
   "source": [
    "# Projections\n",
    "Perhaps surprisingly, given a form of the matrix of Hausholder, that perspective projection matrix is fairly simple. \n",
    "$$\n",
    "\\mathbf{P}_{{\\color{red}{A}}, {\\color{blue}{B}}}=\n",
    "\\begin{bmatrix}\n",
    "1 & 0 & 0\\\\\n",
    "0 & 1 & 0\\\\\n",
    "{\\color{red}{A}} & {\\color{blue}{B}} & 0\n",
    "\\end{bmatrix}\n",
    "$$\n",
    "and turns a homogeneous point $X'$ into its projection $X''$ \n",
    "$$X'' = \\mathbf{P}_{{\\color{red}{A}}, {\\color{blue}{B}}}X'$$\n",
    "onto a line ${\\color{red}{A}}x + {\\color{blue}{B}}y = 1$ (with a center of the projection located at the origin $(0, 0)$)."
   ]
  },
  {
   "cell_type": "code",
   "execution_count": null,
   "metadata": {},
   "outputs": [],
   "source": [
    "# Set the stage!\n",
    "# https://www.geeksforgeeks.org/how-to-draw-shapes-in-matplotlib-with-python/\n",
    "fig, ax = plt.subplots()\n",
    "ax.set_xlim(-1, 4); ax.set_ylim(-1, 4); ax.set_aspect('equal'); plt.grid(True)\n",
    "\n",
    "# Eventually, the final projection (a.k.a. casting a shadow)...\n",
    "# https://youtu.be/27vT-NWuw0M, https://youtu.be/JK-8XNIoAkI and https://youtu.be/cTyNpXB92bQ\n",
    "# which is a linear operation too and can be represented by a matrix as well:\n",
    "# https://wrfranklin.org/pmwiki/Main/HomogeneousCoords\n",
    "# The shadow of the final shape on the line Ax + By = 1\n",
    "A, B = 1 + σ(), 1 + σ()\n",
    "P = array([[1, 0, 0],\n",
    "           [0, 1, 0],\n",
    "           [A, B, 0]])\n",
    "shdw = transform(P, sqwk); verticesIII = h2e(shdw)\n",
    "\n",
    "# https://stackoverflow.com/questions/44526364/fill-matplotlib-polygon-with-a-gradient-between-vertices\n",
    "for (vertices, edges, fills) in [(verticesI, 'crimson', 'orange'),\n",
    "                                 (verticesII, 'maroon', 'orangered'),\n",
    "                                 (verticesIII, 'brown', 'red')]:\n",
    "    polygon = Polygon(vertices, ec = edges, fc = fills, alpha = 0.5)\n",
    "    ax.scatter(vertices[:, 0], vertices[:, 1], color = edges, s = 25)\n",
    "    ax.add_patch(polygon)\n",
    "\n",
    "\n",
    "# And the ♪♫Moonlight shadows♫♪... https://youtu.be/ixExC-Zgyzc and https://youtu.be/e80qhyovOnA of the vertices.\n",
    "# Is that song about Évariste Galois https://en.wikipedia.org/wiki/%C3%89variste_Galois#Final_days?\n",
    "for v, w in zip(sqwk, shdw):\n",
    "    # Homogeneous to Euclidean coordinates\n",
    "    (x, y), (u, r) = v[:-1]/v[-1], w[:-1]/w[-1]\n",
    "    ax.plot((0, x), (0, y), c = 'tan', lw = .5, ls = 'dashed')\n",
    "    ax.plot((0, u), (0, r), c = 'goldenrod', lw = .5, ls = 'dotted')\n",
    "\n",
    "plt.title('3M@2D\\n(marvelous matrix multiplications in two dimensions)\\nrigid, linear, affine & projective transformations'); plt.show()"
   ]
  }
 ],
 "metadata": {
  "kernelspec": {
   "display_name": "Python 3",
   "language": "python",
   "name": "python3"
  },
  "language_info": {
   "codemirror_mode": {
    "name": "ipython",
    "version": 3
   },
   "file_extension": ".py",
   "mimetype": "text/x-python",
   "name": "python",
   "nbconvert_exporter": "python",
   "pygments_lexer": "ipython3",
   "version": "3.12.0"
  }
 },
 "nbformat": 4,
 "nbformat_minor": 2
}
