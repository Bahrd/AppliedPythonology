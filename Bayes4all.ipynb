{
 "cells": [
  {
   "cell_type": "markdown",
   "metadata": {},
   "source": [
    "# Yes, [Bayes!](https://en.wikipedia.org/wiki/Bayes%27_theorem) Yes!\n",
    "# [$${\\color{lightblue}{P(R|M) = P(M|R) \\cdot \\frac{P(R)}{P(M)}}}$$](https://www.smbc-comics.com/comic/how-math-works)\n",
    "\n",
    "## Null hypothesis: **The guy is innocent.**\n",
    "\n",
    "[False positives](https://en.wikipedia.org/wiki/Type_I_and_type_II_errors)\n",
    "(or **type I error**):\n",
    "* *convicting an innocent*\n",
    "* *rejecting the (true) null hypothesis*\n",
    "\n",
    "[False negatives](https://en.wikipedia.org/wiki/Type_I_and_type_II_errors)\n",
    "(or **type II error**): \n",
    "* *acquitting a criminal*, \n",
    "* *failing to reject the (false) null hypothesis*\n",
    "\n",
    "[False positives - again](https://en.wikipedia.org/wiki/Type_III_error#Mosteller)\n",
    "(or **type III error**):\n",
    "* *convicting a criminal using fabricated evidence*, \n",
    "* *rejecting the (false) null hypothesis for the wrong reason*"
   ]
  },
  {
   "cell_type": "code",
   "execution_count": 3,
   "metadata": {},
   "outputs": [],
   "source": [
    "def Bayes_formula(p_a_priori: float, p_false_positives: float, p_true_positives: float) -> float:\n",
    "    p_au_contraire = 1 - p_a_priori\n",
    "    p_positives = p_true_positives * p_a_priori + p_false_positives * p_au_contraire\n",
    "    p_a_posteriori = p_true_positives * p_a_priori/p_positives\n",
    "    return p_a_posteriori"
   ]
  },
  {
   "cell_type": "markdown",
   "metadata": {},
   "source": [
    "A randomly matching epigraph...\n",
    "+ **Skipper**:    Kowalski, what's our trajectory?                            \n",
    "+ **Kowalski**:   Ninety-five percent certain we're still doomed.             [1 - 1/20]\n",
    "+ **Skipper**:    And the, uh... other five percent?                          [1/20]\n",
    "+ **Kowalski**:   [${\\color{lighblue}{\\textbf{¡¡¡Adventure and glory like no penguins have ever seen before!!!}}}$](https://www.youtube.com/watch?v=HTuja3uJ1oo&t=257s)"
   ]
  },
  {
   "cell_type": "code",
   "execution_count": 5,
   "metadata": {},
   "outputs": [
    {
     "name": "stdout",
     "output_type": "stream",
     "text": [
      "For false positives probability = 0.01 and occurrence probability = 0.01 the chances are:\n",
      "50%\n",
      "99%\n",
      "99.99%\n",
      "100%\n"
     ]
    }
   ],
   "source": [
    "from sys import argv      # .\\Bayes4all.py '(1/100, 1/100, 1 - 1/100)' # a.k.a fifty-fifty\n",
    "a_priori, false_positives, true_positives = (1/100, 1/100, 1 - 1/100)\n",
    "## Run, Bayes! Run!\n",
    "a_posteriori = a_priori\n",
    "print(f'For false positives probability = {false_positives} and occurrence probability = {a_priori} the chances are:')\n",
    "while(a_posteriori < 1 - 1/10_000):\n",
    "    a_posteriori = Bayes_formula(a_posteriori, false_positives, true_positives)\n",
    "    print(f'{100 * a_posteriori:.4g}%')"
   ]
  },
  {
   "cell_type": "markdown",
   "metadata": {},
   "source": [
    "# Examples\n",
    "## A single (almost) perfect classifier:\n",
    "For false positives rate = 0.0001 and occurence probability = 0.001 the chances are:\n",
    "- 90.92%\n",
    "+ **100%**\n",
    "\n",
    "## A tandem of mediocre classifiers:\n",
    "For false positives rate = 0.01 and occurence probability = 0.001 the chances are:\n",
    "- 9.099%\n",
    "- 90.92%\n",
    "+ 99.9%\n",
    "+ **100%**"
   ]
  }
 ],
 "metadata": {
  "kernelspec": {
   "display_name": "Python 3",
   "language": "python",
   "name": "python3"
  },
  "language_info": {
   "codemirror_mode": {
    "name": "ipython",
    "version": 3
   },
   "file_extension": ".py",
   "mimetype": "text/x-python",
   "name": "python",
   "nbconvert_exporter": "python",
   "pygments_lexer": "ipython3",
   "version": "3.12.0"
  }
 },
 "nbformat": 4,
 "nbformat_minor": 2
}
